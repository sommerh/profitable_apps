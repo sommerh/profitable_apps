{
 "cells": [
  {
   "attachments": {},
   "cell_type": "markdown",
   "id": "5e917548",
   "metadata": {},
   "source": [
    "# Profitable Apps in Google Play & App Store Markets"
   ]
  },
  {
   "attachments": {},
   "cell_type": "markdown",
   "id": "601b55fc",
   "metadata": {},
   "source": [
    "The goal of this project is to determine what makes an app profitable on both the Google Play and App Store markets. This would allow a company to make decisions on which apps to build based on data. \n",
    "\n",
    "For the sake of this project, the assumption is that all apps that will be made are free, for English-speaking users, and depend heavily on in-app ads. As a result, the number of users heavily influences the profitability of the app. "
   ]
  },
  {
   "attachments": {},
   "cell_type": "markdown",
   "id": "41fdfd63",
   "metadata": {},
   "source": [
    "## Opening the Data"
   ]
  },
  {
   "attachments": {},
   "cell_type": "markdown",
   "id": "e9a13e70",
   "metadata": {},
   "source": [
    "In order to achieve this goal, I reviewed data from two sources:\n",
    "- [Google Play](https://www.kaggle.com/datasets/lava18/google-play-store-apps): collected in August 2018 and containing approximately 10,000 apps\n",
    "- [App Store](https://www.kaggle.com/datasets/ramamet4/app-store-apple-data-set-10k-apps): collected in July 2017 and containing approximately 7,000 apps"
   ]
  },
  {
   "cell_type": "code",
   "execution_count": 1,
   "id": "949d5a64",
   "metadata": {},
   "outputs": [],
   "source": [
    "from csv import reader\n",
    "\n",
    "#Google Play\n",
    "read_file = reader(open('googleplaystore.csv'))\n",
    "android_data = list(read_file)\n",
    "android_header = android_data[0]\n",
    "android = android_data[1:]\n",
    "\n",
    "#App Store\n",
    "read_file = reader(open('AppleStore.csv'))\n",
    "ios_data = list(read_file)\n",
    "ios_header = ios_data[0]\n",
    "ios = ios_data[1:]"
   ]
  },
  {
   "attachments": {},
   "cell_type": "markdown",
   "id": "d840bb9f",
   "metadata": {},
   "source": [
    "## Exploring the Data"
   ]
  },
  {
   "attachments": {},
   "cell_type": "markdown",
   "id": "a413a64e",
   "metadata": {},
   "source": [
    "The function below will help in exploring the data by slicing the data to only the rows that we we interested in, while also printing them in a more readable way. Keep in mind that the `end` parameter is not inclusive.\n",
    "\n",
    "If the row_and_columns argument is `True`, then it will also let us know how many rows (apps) and columns (data points for each app) are in the data."
   ]
  },
  {
   "cell_type": "code",
   "execution_count": 2,
   "id": "613cafe6",
   "metadata": {},
   "outputs": [],
   "source": [
    "def explore_data(dataset, start, end, rows_and_columns=False):\n",
    "    for row in dataset[start:end]:\n",
    "        print(row)\n",
    "        print('\\n')\n",
    "    \n",
    "    if rows_and_columns:\n",
    "        print('Number of rows:', len(dataset))\n",
    "        print('Number of columns:', len(dataset[0]))"
   ]
  },
  {
   "attachments": {},
   "cell_type": "markdown",
   "id": "91fdafa0",
   "metadata": {},
   "source": [
    "Let's take a look at the Android Data column names, along with some random rows of data. We will also determine how many rows and columns there are in this set. "
   ]
  },
  {
   "cell_type": "code",
   "execution_count": 3,
   "id": "416dfbd3",
   "metadata": {},
   "outputs": [
    {
     "name": "stdout",
     "output_type": "stream",
     "text": [
      "['App', 'Category', 'Rating', 'Reviews', 'Size', 'Installs', 'Type', 'Price', 'Content Rating', 'Genres', 'Last Updated', 'Current Ver', 'Android Ver']\n",
      "\n",
      "\n",
      "['Photo Editor & Candy Camera & Grid & ScrapBook', 'ART_AND_DESIGN', '4.1', '159', '19M', '10,000', 'Free', '0', 'Everyone', 'Art & Design', 'January 7, 2018', '1.0.0', '4.0.3 and up']\n",
      "\n",
      "\n",
      "['Coloring book moana', 'ART_AND_DESIGN', '3.9', '967', '14M', '500,000', 'Free', '0', 'Everyone', 'Art & Design;Pretend Play', 'January 15, 2018', '2.0.0', '4.0.3 and up']\n",
      "\n",
      "\n",
      "['U Launcher Lite – FREE Live Cool Themes, Hide Apps', 'ART_AND_DESIGN', '4.7', '87510', '8.7M', '5,000,000', 'Free', '0', 'Everyone', 'Art & Design', 'August 1, 2018', '1.2.4', '4.0.3 and up']\n",
      "\n",
      "\n",
      "['Sketch - Draw & Paint', 'ART_AND_DESIGN', '4.5', '215644', '25M', '50,000,000', 'Free', '0', 'Teen', 'Art & Design', 'June 8, 2018', 'Varies with device', '4.2 and up']\n",
      "\n",
      "\n",
      "['Pixel Draw - Number Art Coloring Book', 'ART_AND_DESIGN', '4.3', '967', '2.8M', '100,000', 'Free', '0', 'Everyone', 'Art & Design;Creativity', 'June 20, 2018', '1.1', '4.4 and up']\n",
      "\n",
      "\n",
      "Number of rows: 10841\n",
      "Number of columns: 13\n",
      "None\n"
     ]
    }
   ],
   "source": [
    "print(android_header)\n",
    "print('\\n')\n",
    "print(explore_data(android, 0, 5, True))"
   ]
  },
  {
   "attachments": {},
   "cell_type": "markdown",
   "id": "a9e0627c",
   "metadata": {},
   "source": [
    "We can quickly see that the Android data had 10,841 apps with 13 columns. At a glance, I would think that `App`, `Category`, `Reviews`, `Installs`, `Type`, `Price`, and `Genres` will be useful."
   ]
  },
  {
   "attachments": {},
   "cell_type": "markdown",
   "id": "acf1ac43",
   "metadata": {},
   "source": [
    "Now, let's do the same for the iOS data:"
   ]
  },
  {
   "cell_type": "code",
   "execution_count": 4,
   "id": "244e9a2c",
   "metadata": {},
   "outputs": [
    {
     "name": "stdout",
     "output_type": "stream",
     "text": [
      "['id', 'track_name', 'size_bytes', 'currency', 'price', 'rating_count_tot', 'rating_count_ver', 'user_rating', 'user_rating_ver', 'ver', 'cont_rating', 'prime_genre', 'sup_devices.num', 'ipadSc_urls.num', 'lang.num', 'vpp_lic']\n",
      "\n",
      "\n",
      "['284882215', 'Facebook', '389879808', 'USD', '0.0', '2974676', '212', '3.5', '3.5', '95.0', '4', 'Social Networking', '37', '1', '29', '1']\n",
      "\n",
      "\n",
      "['389801252', 'Instagram', '113954816', 'USD', '0.0', '2161558', '1289', '4.5', '4.0', '10.23', '12', 'Photo & Video', '37', '0', '29', '1']\n",
      "\n",
      "\n",
      "['529479190', 'Clash of Clans', '116476928', 'USD', '0.0', '2130805', '579', '4.5', '4.5', '9.24.12', '9', 'Games', '38', '5', '18', '1']\n",
      "\n",
      "\n",
      "['420009108', 'Temple Run', '65921024', 'USD', '0.0', '1724546', '3842', '4.5', '4.0', '1.6.2', '9', 'Games', '40', '5', '1', '1']\n",
      "\n",
      "\n",
      "['284035177', 'Pandora - Music & Radio', '130242560', 'USD', '0.0', '1126879', '3594', '4.0', '4.5', '8.4.1', '12', 'Music', '37', '4', '1', '1']\n",
      "\n",
      "\n",
      "Number of rows: 7197\n",
      "Number of columns: 16\n",
      "None\n"
     ]
    }
   ],
   "source": [
    "print(ios_header)\n",
    "print('\\n')\n",
    "print(explore_data(ios, 0, 5, True))"
   ]
  },
  {
   "attachments": {},
   "cell_type": "markdown",
   "id": "9d1a173e",
   "metadata": {},
   "source": [
    "The iOS data consists of 7,197 apps and has 16 columns. At a glance, `track_name`, `currency`, `price`, `rating_count_tot`, `rating_count_ver` and `prime_genre` will be useful. \n",
    "\n",
    "_Note_: These column names are a bit harder to understand. You can find their descriptions in the data documentation link found in the 'Opening the Data' section."
   ]
  },
  {
   "attachments": {},
   "cell_type": "markdown",
   "id": "5ca35927",
   "metadata": {},
   "source": [
    "## Data Cleaning"
   ]
  },
  {
   "attachments": {},
   "cell_type": "markdown",
   "id": "7c68a4aa",
   "metadata": {},
   "source": [
    "We are going to start data cleaning by checking the discussion threads to if there is any missing data that has been previously found. "
   ]
  },
  {
   "attachments": {},
   "cell_type": "markdown",
   "id": "2370547d",
   "metadata": {},
   "source": [
    "The Google Play discussion section includes [a thread](https://www.kaggle.com/datasets/lava18/google-play-store-apps/discussion/66015) for an error on row 10472 (if using full data set with header, it will be row 10473)."
   ]
  },
  {
   "cell_type": "code",
   "execution_count": 5,
   "id": "3fbb5144",
   "metadata": {},
   "outputs": [
    {
     "name": "stdout",
     "output_type": "stream",
     "text": [
      "App: Life Made WI-Fi Touchscreen Photo Frame \n",
      "Category: 1.9 \n",
      "Rating: 19 \n",
      "Reviews: 3.0M \n",
      "Size: 1,000 \n",
      "Installs: Free \n",
      "Type: 0 \n",
      "Price: Everyone \n",
      "Content Rating:  \n",
      "Genres: February 11, 2018 \n",
      "Last Updated: 1.0.19 \n",
      "Current Ver: 4.0 and up \n",
      "Android Ver:  \n"
     ]
    }
   ],
   "source": [
    "for i in range(len(android[0])):\n",
    "    print (f'{android_header[i]}: {android[10472][i]} ')"
   ]
  },
  {
   "attachments": {},
   "cell_type": "markdown",
   "id": "3523fc47",
   "metadata": {},
   "source": [
    "Looking at this, we can definitely see that something is off. Upon further exploration, it seems that the `Category` and `Genres` are missing, which is causing all other data to get moved. \n",
    "\n",
    "There are several ways of handling this, including deleting the row outright or finding the missing information, adding it into the set, and moving the other information to this correct place. For the sake of this project, I will delete it outright."
   ]
  },
  {
   "cell_type": "code",
   "execution_count": 6,
   "id": "af98ecfd",
   "metadata": {},
   "outputs": [],
   "source": [
    "del android[10472]"
   ]
  },
  {
   "attachments": {},
   "cell_type": "markdown",
   "id": "891ee523",
   "metadata": {},
   "source": [
    "The previous number of rows was 10,841. If the below prints as one less, the delete was successful."
   ]
  },
  {
   "cell_type": "code",
   "execution_count": 7,
   "id": "d8a24915",
   "metadata": {},
   "outputs": [
    {
     "name": "stdout",
     "output_type": "stream",
     "text": [
      "10840\n"
     ]
    }
   ],
   "source": [
    "print(len(android))"
   ]
  },
  {
   "attachments": {},
   "cell_type": "markdown",
   "id": "06d0e790",
   "metadata": {},
   "source": [
    "### Removing Duplicate Entries"
   ]
  },
  {
   "attachments": {},
   "cell_type": "markdown",
   "id": "d05766f2",
   "metadata": {},
   "source": [
    "The function below can be called on either data set to determine if and how many potential duplicates exist in the data set. For Android data the 0th index of each row is the app name. In the iOS data, the 0th index is the app ID. Both of these work for testing if the app is unique. "
   ]
  },
  {
   "cell_type": "code",
   "execution_count": 8,
   "id": "c0fa3e8c",
   "metadata": {},
   "outputs": [],
   "source": [
    "def duplicates(dataset):\n",
    "    duplicate_apps = []\n",
    "    unique_apps = []\n",
    "    \n",
    "    for app in dataset:\n",
    "        if app[0] not in unique_apps:\n",
    "            unique_apps.append(app[0])\n",
    "        else:\n",
    "            duplicate_apps.append(app[0])\n",
    "    \n",
    "    return duplicate_apps\n",
    "\n",
    "android_duplicates = duplicates(android)\n",
    "ios_duplicates = duplicates(ios)"
   ]
  },
  {
   "attachments": {},
   "cell_type": "markdown",
   "id": "7bc7c2bd",
   "metadata": {},
   "source": [
    "#### Android Data"
   ]
  },
  {
   "attachments": {},
   "cell_type": "markdown",
   "id": "364c554b",
   "metadata": {},
   "source": [
    "I will look at the Android data first."
   ]
  },
  {
   "cell_type": "code",
   "execution_count": 9,
   "id": "c04e556e",
   "metadata": {},
   "outputs": [
    {
     "name": "stdout",
     "output_type": "stream",
     "text": [
      "Number of duplicate apps: 1181\n"
     ]
    }
   ],
   "source": [
    "print('Number of duplicate apps:', len(android_duplicates))"
   ]
  },
  {
   "cell_type": "code",
   "execution_count": 10,
   "id": "45ccb3d3",
   "metadata": {},
   "outputs": [
    {
     "name": "stdout",
     "output_type": "stream",
     "text": [
      "Examples of duplicate apps: ['Quick PDF Scanner + OCR FREE', 'Box', 'Google My Business', 'ZOOM Cloud Meetings', 'join.me - Simple Meetings', 'Box', 'Zenefits', 'Google Ads', 'Google My Business', 'Slack', 'FreshBooks Classic', 'Insightly CRM', 'QuickBooks Accounting: Invoicing & Expenses', 'HipChat - Chat Built for Teams', 'Xero Accounting Software']\n"
     ]
    }
   ],
   "source": [
    "print('Examples of duplicate apps:', android_duplicates[:15])"
   ]
  },
  {
   "attachments": {},
   "cell_type": "markdown",
   "id": "c9de577b",
   "metadata": {},
   "source": [
    "I will be picking a couple of random duplicate names and will print them out to see if I can find any differences with them. This will help me come up with criterion to use for determining which duplicate to delete.\n",
    "\n",
    "To make this easier, I will create a function that I can call for each dataset and name I want to check."
   ]
  },
  {
   "cell_type": "code",
   "execution_count": 11,
   "id": "8ebb0b36",
   "metadata": {},
   "outputs": [
    {
     "name": "stdout",
     "output_type": "stream",
     "text": [
      "['Box', 'BUSINESS', '4.2', '159872', 'Varies with device', '10,000,000', 'Free', '0', 'Everyone', 'Business', 'July 31, 2018', 'Varies with device', 'Varies with device']\n",
      "['Box', 'BUSINESS', '4.2', '159872', 'Varies with device', '10,000,000', 'Free', '0', 'Everyone', 'Business', 'July 31, 2018', 'Varies with device', 'Varies with device']\n",
      "['Box', 'BUSINESS', '4.2', '159872', 'Varies with device', '10,000,000', 'Free', '0', 'Everyone', 'Business', 'July 31, 2018', 'Varies with device', 'Varies with device']\n"
     ]
    }
   ],
   "source": [
    "def specific_duplicates(dataset, name):\n",
    "    for app in dataset:\n",
    "        if app[0] == name:\n",
    "            print(app)\n",
    "            \n",
    "specific_duplicates(android, 'Box')"
   ]
  },
  {
   "cell_type": "code",
   "execution_count": 12,
   "id": "7187ad4b",
   "metadata": {},
   "outputs": [
    {
     "name": "stdout",
     "output_type": "stream",
     "text": [
      "['Google Ads', 'BUSINESS', '4.3', '29313', '20M', '5,000,000', 'Free', '0', 'Everyone', 'Business', 'July 30, 2018', '1.12.0', '4.0.3 and up']\n",
      "['Google Ads', 'BUSINESS', '4.3', '29313', '20M', '5,000,000', 'Free', '0', 'Everyone', 'Business', 'July 30, 2018', '1.12.0', '4.0.3 and up']\n",
      "['Google Ads', 'BUSINESS', '4.3', '29331', '20M', '5,000,000', 'Free', '0', 'Everyone', 'Business', 'July 30, 2018', '1.12.0', '4.0.3 and up']\n"
     ]
    }
   ],
   "source": [
    "specific_duplicates(android, 'Google Ads')"
   ]
  },
  {
   "cell_type": "code",
   "execution_count": 13,
   "id": "f81f4530",
   "metadata": {},
   "outputs": [
    {
     "name": "stdout",
     "output_type": "stream",
     "text": [
      "['Slack', 'BUSINESS', '4.4', '51507', 'Varies with device', '5,000,000', 'Free', '0', 'Everyone', 'Business', 'August 2, 2018', 'Varies with device', 'Varies with device']\n",
      "['Slack', 'BUSINESS', '4.4', '51507', 'Varies with device', '5,000,000', 'Free', '0', 'Everyone', 'Business', 'August 2, 2018', 'Varies with device', 'Varies with device']\n",
      "['Slack', 'BUSINESS', '4.4', '51510', 'Varies with device', '5,000,000', 'Free', '0', 'Everyone', 'Business', 'August 2, 2018', 'Varies with device', 'Varies with device']\n"
     ]
    }
   ],
   "source": [
    "specific_duplicates(android, 'Slack')"
   ]
  },
  {
   "attachments": {},
   "cell_type": "markdown",
   "id": "392c70af",
   "metadata": {},
   "source": [
    "Several of the duplicates of the apps I checked seem to be the same. However, in 'Slack' I can see that the number of ratings is different. It is fair to assume that, since everything else is the same, the apps with the same name are the same apps with the data collected at different times. \n",
    "\n",
    "Thus, the app with more ratings was likely collected last, and will be the row that is kept, while the others are deleted."
   ]
  },
  {
   "cell_type": "code",
   "execution_count": 14,
   "id": "8d8f20f3",
   "metadata": {},
   "outputs": [
    {
     "name": "stdout",
     "output_type": "stream",
     "text": [
      "Expected length after removal of duplicates: 9659\n"
     ]
    }
   ],
   "source": [
    "expected_clean_length_android = len(android) - 1181\n",
    "print('Expected length after removal of duplicates:', len(android) - 1181)"
   ]
  },
  {
   "attachments": {},
   "cell_type": "markdown",
   "id": "ae892633",
   "metadata": {},
   "source": [
    "We now know that the expected length of our dataset after we remove the duplicates is 9.659. We are going to use a dictionary to determine a list of all the apps that should be in our clean dataset. The criterion for adding to the dictionary is: (1) the app is not already in there; or (2) if the app is already in there with a lower rating it will be replaced with the current one. \n",
    "\n",
    "If the length of the dictionary is the same as the expected length after removal of duplicates, it was done correctly. "
   ]
  },
  {
   "cell_type": "code",
   "execution_count": 15,
   "id": "dd026836",
   "metadata": {},
   "outputs": [
    {
     "name": "stdout",
     "output_type": "stream",
     "text": [
      "9659\n"
     ]
    }
   ],
   "source": [
    "ratings_max = {}\n",
    "\n",
    "for app in android:\n",
    "    name = app[0]\n",
    "    n_reviews = float(app[3])\n",
    "    if name not in ratings_max or (name in ratings_max and ratings_max[name] < n_reviews):\n",
    "        ratings_max[name] = n_reviews\n",
    "        \n",
    "print(len(ratings_max))"
   ]
  },
  {
   "attachments": {},
   "cell_type": "markdown",
   "id": "e0be78e5",
   "metadata": {},
   "source": [
    "Using the `ratings_max` dictionary, we will remove the duplicates from the android data. To do this, we will iterate through the android data set, only adding an app to the new clean dataset if it matches the name and ratings in `ratings_max` and has not already been added.\n",
    "\n",
    "To test that this was successful, we will check the length of the clean data. If it equals the expected length (9,659) then we can be confident it was successful."
   ]
  },
  {
   "cell_type": "code",
   "execution_count": 16,
   "id": "4b5ad905",
   "metadata": {},
   "outputs": [
    {
     "name": "stdout",
     "output_type": "stream",
     "text": [
      "The length of the clean data is: 9659\n",
      "Cleaning android data was successful: True\n"
     ]
    }
   ],
   "source": [
    "android_clean = []\n",
    "already_added = []\n",
    "\n",
    "for app in android:\n",
    "    name = app[0]\n",
    "    n_reviews = float(app[3])\n",
    "    if n_reviews == ratings_max[name] and name not in already_added:\n",
    "        already_added.append(name)\n",
    "        android_clean.append(app)\n",
    "\n",
    "print('The length of the clean data is:', len(android_clean))\n",
    "print('Cleaning android data was successful:', expected_clean_length_android == len(android_clean))"
   ]
  },
  {
   "attachments": {},
   "cell_type": "markdown",
   "id": "f4445e78",
   "metadata": {},
   "source": [
    "#### iOS Data"
   ]
  },
  {
   "attachments": {},
   "cell_type": "markdown",
   "id": "9eef2042",
   "metadata": {},
   "source": [
    "Now onto the iOS data. I am going to start in the same way: by examining the number of duplicates, printing some of the names out, and examining the specific apps for trends."
   ]
  },
  {
   "cell_type": "code",
   "execution_count": 17,
   "id": "0742706b",
   "metadata": {},
   "outputs": [
    {
     "name": "stdout",
     "output_type": "stream",
     "text": [
      "Number of duplicate iOS apps: 0\n"
     ]
    }
   ],
   "source": [
    "print('Number of duplicate iOS apps:', len(ios_duplicates))"
   ]
  },
  {
   "attachments": {},
   "cell_type": "markdown",
   "id": "d9b160db",
   "metadata": {},
   "source": [
    "According to this, there are no duplicates in the iOS data. This is great and allows us to continue to the next step. As mentioned earlier, we will be focusing only on free apps for English-speakers. Let's remove all non-English apps, to start."
   ]
  },
  {
   "attachments": {},
   "cell_type": "markdown",
   "id": "e1a71f52",
   "metadata": {},
   "source": [
    "### Removing Non-English Apps"
   ]
  },
  {
   "attachments": {},
   "cell_type": "markdown",
   "id": "608d9f44",
   "metadata": {},
   "source": [
    "In this section, we will be removing all non-English apps from the list. \n",
    "\n",
    "According to the American Standard Code for Information Interchange (ASCII), all characters have a cooresponding number to identify them. Characters that are generally used in English text range from 0 to 127. It is important to note that non-English characters that are used commonly with the English language, such as emojis and symbols, are above 127.\n",
    "\n",
    "This information will help us create a function that detects whether or not a given character is part of the English language. \n",
    "\n",
    "Our function will take a string and will iterate through each character in the string, checking if it is between the given range. If the name of an app includes more than 3 characters above 127, it would be fair to assume that the app name is not English and, therefore, the app is not in English. \n",
    "\n",
    "We specify 3 characters to prevent the app removing app in English that include emojis or symbols (such as `™`) in the title. It is possible that an app name includes more than 3 of these characters and will excluded, though it is unlikely that it will happen often."
   ]
  },
  {
   "cell_type": "code",
   "execution_count": 22,
   "id": "05a980ce",
   "metadata": {},
   "outputs": [],
   "source": [
    "def english_name(name):\n",
    "    count = 0\n",
    "    for char in name:\n",
    "        if ord(char) < 0 or ord(char) > 127:\n",
    "            count += 1\n",
    "            if count > 3:\n",
    "                return False\n",
    "    return True"
   ]
  },
  {
   "attachments": {},
   "cell_type": "markdown",
   "id": "526b1875",
   "metadata": {},
   "source": [
    "Some test cases:"
   ]
  },
  {
   "cell_type": "code",
   "execution_count": 23,
   "id": "97ff5ad7",
   "metadata": {},
   "outputs": [
    {
     "name": "stdout",
     "output_type": "stream",
     "text": [
      "'Instagram' is in English: True\n",
      "'爱奇艺PPS -《欢乐颂2》电视剧热播' is in English: False\n",
      "'Docs To Go™ Free Office Suite' is in English: True\n",
      "'Instachat 😜' is in English: True\n"
     ]
    }
   ],
   "source": [
    "print('\\'Instagram\\' is in English:', english_name('Instagram'))\n",
    "print('\\'爱奇艺PPS -《欢乐颂2》电视剧热播\\' is in English:', english_name('爱奇艺PPS -《欢乐颂2》电视剧热播'))\n",
    "print('\\'Docs To Go™ Free Office Suite\\' is in English:', english_name('Docs To Go™ Free Office Suite'))\n",
    "print('\\'Instachat 😜\\' is in English:', english_name('Instachat 😜'))"
   ]
  },
  {
   "attachments": {},
   "cell_type": "markdown",
   "id": "26699f52",
   "metadata": {},
   "source": [
    "We will now create another function that will loop through the ios and android data, using the above function as a helper to determine if the app is perceived to be in English or not. We will run this to create two variables consisting of lists of apps: one for iOS and one for Android.\n",
    "\n",
    "This function will take in a dataset and a column index. The column index refers to the name column in the given dataset."
   ]
  },
  {
   "cell_type": "code",
   "execution_count": 26,
   "id": "df1b98ae",
   "metadata": {},
   "outputs": [
    {
     "name": "stdout",
     "output_type": "stream",
     "text": [
      "There are 9614 English apps for Android\n",
      "There are 6183 English apps for iOS\n"
     ]
    }
   ],
   "source": [
    "def find_english_apps(dataset, column_index):\n",
    "    english_apps = []\n",
    "    for app in dataset:\n",
    "        if english_name(app[column_index]):\n",
    "          english_apps.append(app)\n",
    "          \n",
    "    return english_apps\n",
    "\n",
    "android_english = find_english_apps(android_clean, 0)\n",
    "ios_english = find_english_apps(ios, 1)\n",
    "\n",
    "print(f'There are {len(android_english)} English apps for Android')\n",
    "print(f'There are {len(ios_english)} English apps for iOS')"
   ]
  },
  {
   "attachments": {},
   "cell_type": "markdown",
   "id": "744413a1",
   "metadata": {},
   "source": [
    "### Removing Paid Apps"
   ]
  },
  {
   "attachments": {},
   "cell_type": "markdown",
   "id": "9cbafe67",
   "metadata": {},
   "source": [
    "As mentioned previously, we are only going to be analyzing free apps. Since the data we have includes _all_ apps, we will take some time to remove any paid apps from our set.\n",
    "\n",
    "To start, let's see where the information for the app price is."
   ]
  },
  {
   "cell_type": "code",
   "execution_count": 27,
   "id": "580326ae",
   "metadata": {},
   "outputs": [
    {
     "name": "stdout",
     "output_type": "stream",
     "text": [
      "Android Column Names\n",
      "\n",
      "['App', 'Category', 'Rating', 'Reviews', 'Size', 'Installs', 'Type', 'Price', 'Content Rating', 'Genres', 'Last Updated', 'Current Ver', 'Android Ver']\n",
      "\n",
      "\n",
      "iOS Column Names\n",
      "['id', 'track_name', 'size_bytes', 'currency', 'price', 'rating_count_tot', 'rating_count_ver', 'user_rating', 'user_rating_ver', 'ver', 'cont_rating', 'prime_genre', 'sup_devices.num', 'ipadSc_urls.num', 'lang.num', 'vpp_lic']\n"
     ]
    }
   ],
   "source": [
    "print('Android Column Names\\n')\n",
    "print(android_header)\n",
    "print('\\n')\n",
    "print('iOS Column Names')\n",
    "print(ios_header)"
   ]
  },
  {
   "attachments": {},
   "cell_type": "markdown",
   "id": "7872bd18",
   "metadata": {},
   "source": [
    "The Android data has two columns where we can tell if it is free or not: \n",
    "1. The `Type` column (index 6)\n",
    "2. The `Price` column (index 7)\n",
    "\n",
    "For the sake of this project, I will be using the `Price` column. My thought process here is that it is less likely there will be a mistake, such as a typo, in that column."
   ]
  },
  {
   "attachments": {},
   "cell_type": "markdown",
   "id": "e11fc236",
   "metadata": {},
   "source": [
    "The iOS data has a `price` column (index 4), which can be used to determine if it is free. \n",
    "\n",
    "Below, we will create a function that can be reused later for each dataset. This function will take in a dataset and index. We will use type coercion to ensure that each price is a `float`, first making sure that we aren't accidentally attempting to coerce a `'$'`. It will then loop through the given dataset, appending an app to a new list every time the given index is `0.0`. It is also useful to note that this provides an additional reason for using the `Price` column of the Android data - it will allow use to create a reuseable function instead of creating one loop that looks for `0.0` and one that looks for `'free'`. "
   ]
  },
  {
   "cell_type": "code",
   "execution_count": 38,
   "id": "67c46b34",
   "metadata": {},
   "outputs": [
    {
     "name": "stdout",
     "output_type": "stream",
     "text": [
      "There are 8864 Android apps remaining.\n",
      "There are 3222 iOS apps remaining.\n"
     ]
    }
   ],
   "source": [
    "def free_apps (dataset, idx):\n",
    "    free = []\n",
    "    for app in dataset:\n",
    "        price = None\n",
    "        if app[idx][0] == '$':\n",
    "            price = app[idx][1:]\n",
    "        else:\n",
    "            price = app[idx]\n",
    "            \n",
    "        if float(price) == 0.0:\n",
    "            free.append(app)\n",
    "    return free\n",
    "\n",
    "android_free_english = free_apps(android_english, 7)\n",
    "ios_free_english = free_apps(ios_english, 4)\n",
    "\n",
    "print(f'There are {len(android_free_english)} Android apps remaining.')\n",
    "print(f'There are {len(ios_free_english)} iOS apps remaining.')"
   ]
  },
  {
   "attachments": {},
   "cell_type": "markdown",
   "id": "8b5375b7",
   "metadata": {},
   "source": [
    "## Most Common Apps By Genre"
   ]
  },
  {
   "attachments": {},
   "cell_type": "markdown",
   "id": "8a379760",
   "metadata": {},
   "source": [
    "### Background"
   ]
  },
  {
   "attachments": {},
   "cell_type": "markdown",
   "id": "1de91534",
   "metadata": {},
   "source": [
    "The revenue made by the company depends heavily on in-app ads and, therefore, on number of users who see those ads. As a result, we want to analyze this data to determine what kind of app is likely to attract more users.\n",
    "\n",
    "Our end goal is to have the app on both the Google Play Store and App Store, so we need to find app profiles that have been successful in both stores. \n",
    "\n",
    "If we scroll up a few cells, we can see the column names for Android and iOS apps. It looks like `Category` (index 1) and `Genres` (index 9) in Android and `prime_genre` (index 11) in iOS would be good starting points.  "
   ]
  },
  {
   "attachments": {},
   "cell_type": "markdown",
   "id": "0b4614a0",
   "metadata": {},
   "source": [
    "### Creating and Analyzing Sorted Frequency Tables "
   ]
  },
  {
   "cell_type": "code",
   "execution_count": 33,
   "id": "2596b28a",
   "metadata": {},
   "outputs": [],
   "source": [
    "def freq_table(dataset, index):\n",
    "    freq = {}\n",
    "    count = 0\n",
    "    for app in dataset:\n",
    "        if app[index] not in freq:\n",
    "            freq[app[index]] = 0\n",
    "        freq[app[index]] += 1\n",
    "        count += 1\n",
    "    \n",
    "    freq_percentages = {}\n",
    "    for genre in freq:\n",
    "        percentage = (freq[genre] / count) * 100\n",
    "        freq_percentages[genre] = percentage\n",
    "        \n",
    "    return freq_percentages\n",
    "\n",
    "\n",
    "\n",
    "def display_table(dataset, index):\n",
    "    table = freq_table(dataset, index)\n",
    "    table_display = []\n",
    "    for key in table:\n",
    "        key_val_as_tuple = (table[key], key)\n",
    "        table_display.append(key_val_as_tuple)\n",
    "\n",
    "    table_sorted = sorted(table_display, reverse = True)\n",
    "    for entry in table_sorted:\n",
    "        print(entry[1], ':', entry[0])"
   ]
  },
  {
   "attachments": {},
   "cell_type": "markdown",
   "id": "af258006",
   "metadata": {},
   "source": [
    "#### Android Data"
   ]
  },
  {
   "attachments": {},
   "cell_type": "markdown",
   "id": "19bbe5dd",
   "metadata": {},
   "source": [
    "Let's analyze the `Categories` and `Genres` sections of the Android (Google Play Store) data. We picked both these sections because of how related they seem. "
   ]
  },
  {
   "cell_type": "code",
   "execution_count": 34,
   "id": "a5ae150e",
   "metadata": {},
   "outputs": [
    {
     "name": "stdout",
     "output_type": "stream",
     "text": [
      "Display table of Android App Categories:\n",
      "\n",
      "\n",
      "FAMILY : 18.907942238267147\n",
      "GAME : 9.724729241877256\n",
      "TOOLS : 8.461191335740072\n",
      "BUSINESS : 4.591606498194946\n",
      "LIFESTYLE : 3.9034296028880866\n",
      "PRODUCTIVITY : 3.892148014440433\n",
      "FINANCE : 3.7003610108303246\n",
      "MEDICAL : 3.531137184115524\n",
      "SPORTS : 3.395758122743682\n",
      "PERSONALIZATION : 3.3167870036101084\n",
      "COMMUNICATION : 3.2378158844765346\n",
      "HEALTH_AND_FITNESS : 3.0798736462093865\n",
      "PHOTOGRAPHY : 2.944494584837545\n",
      "NEWS_AND_MAGAZINES : 2.7978339350180503\n",
      "SOCIAL : 2.6624548736462095\n",
      "TRAVEL_AND_LOCAL : 2.33528880866426\n",
      "SHOPPING : 2.2450361010830324\n",
      "BOOKS_AND_REFERENCE : 2.1435018050541514\n",
      "DATING : 1.861462093862816\n",
      "VIDEO_PLAYERS : 1.7937725631768955\n",
      "MAPS_AND_NAVIGATION : 1.3989169675090252\n",
      "FOOD_AND_DRINK : 1.2409747292418771\n",
      "EDUCATION : 1.1620036101083033\n",
      "ENTERTAINMENT : 0.9589350180505415\n",
      "LIBRARIES_AND_DEMO : 0.9363718411552346\n",
      "AUTO_AND_VEHICLES : 0.9250902527075812\n",
      "HOUSE_AND_HOME : 0.8235559566787004\n",
      "WEATHER : 0.8009927797833934\n",
      "EVENTS : 0.7107400722021661\n",
      "PARENTING : 0.6543321299638989\n",
      "ART_AND_DESIGN : 0.6430505415162455\n",
      "COMICS : 0.6204873646209386\n",
      "BEAUTY : 0.5979241877256317\n"
     ]
    }
   ],
   "source": [
    "print('Display table of Android App Categories:')\n",
    "print('\\n')\n",
    "display_table(android_free_english, 1)"
   ]
  },
  {
   "attachments": {},
   "cell_type": "markdown",
   "id": "8760d8da",
   "metadata": {},
   "source": [
    "At first glance, it looks like the majority of apps are focused on productivity, as opposed to gaming. However, if you look into the Google Play Store under family, you will find that the majority of the apps under Family category are actually mostly games for kids. This category alone accounts for about 19% of the apps, and if we combine it with the Games category, then you can see games account for almost 30% of all apps in the Google Play Store.\n",
    "\n",
    "This does show us that there are more games that you may think at first glance, though we can still see that the majority of Google Play Store apps are productivity."
   ]
  },
  {
   "cell_type": "code",
   "execution_count": 35,
   "id": "9a0bfb54",
   "metadata": {},
   "outputs": [
    {
     "name": "stdout",
     "output_type": "stream",
     "text": [
      "Display table of Android App Genres:\n",
      "\n",
      "\n",
      "Tools : 8.449909747292418\n",
      "Entertainment : 6.069494584837545\n",
      "Education : 5.347472924187725\n",
      "Business : 4.591606498194946\n",
      "Productivity : 3.892148014440433\n",
      "Lifestyle : 3.892148014440433\n",
      "Finance : 3.7003610108303246\n",
      "Medical : 3.531137184115524\n",
      "Sports : 3.463447653429603\n",
      "Personalization : 3.3167870036101084\n",
      "Communication : 3.2378158844765346\n",
      "Action : 3.1024368231046933\n",
      "Health & Fitness : 3.0798736462093865\n",
      "Photography : 2.944494584837545\n",
      "News & Magazines : 2.7978339350180503\n",
      "Social : 2.6624548736462095\n",
      "Travel & Local : 2.3240072202166067\n",
      "Shopping : 2.2450361010830324\n",
      "Books & Reference : 2.1435018050541514\n",
      "Simulation : 2.0419675090252705\n",
      "Dating : 1.861462093862816\n",
      "Arcade : 1.8501805054151623\n",
      "Video Players & Editors : 1.7712093862815883\n",
      "Casual : 1.7599277978339352\n",
      "Maps & Navigation : 1.3989169675090252\n",
      "Food & Drink : 1.2409747292418771\n",
      "Puzzle : 1.128158844765343\n",
      "Racing : 0.9927797833935018\n",
      "Role Playing : 0.9363718411552346\n",
      "Libraries & Demo : 0.9363718411552346\n",
      "Auto & Vehicles : 0.9250902527075812\n",
      "Strategy : 0.9138086642599278\n",
      "House & Home : 0.8235559566787004\n",
      "Weather : 0.8009927797833934\n",
      "Events : 0.7107400722021661\n",
      "Adventure : 0.6768953068592057\n",
      "Comics : 0.6092057761732852\n",
      "Beauty : 0.5979241877256317\n",
      "Art & Design : 0.5979241877256317\n",
      "Parenting : 0.4963898916967509\n",
      "Card : 0.45126353790613716\n",
      "Casino : 0.42870036101083037\n",
      "Trivia : 0.41741877256317694\n",
      "Educational;Education : 0.39485559566787\n",
      "Board : 0.3835740072202166\n",
      "Educational : 0.3722924187725632\n",
      "Education;Education : 0.33844765342960287\n",
      "Word : 0.2594765342960289\n",
      "Casual;Pretend Play : 0.236913357400722\n",
      "Music : 0.2030685920577617\n",
      "Racing;Action & Adventure : 0.16922382671480143\n",
      "Puzzle;Brain Games : 0.16922382671480143\n",
      "Entertainment;Music & Video : 0.16922382671480143\n",
      "Casual;Brain Games : 0.13537906137184114\n",
      "Casual;Action & Adventure : 0.13537906137184114\n",
      "Arcade;Action & Adventure : 0.12409747292418773\n",
      "Action;Action & Adventure : 0.10153429602888085\n",
      "Educational;Pretend Play : 0.09025270758122744\n",
      "Simulation;Action & Adventure : 0.078971119133574\n",
      "Parenting;Education : 0.078971119133574\n",
      "Entertainment;Brain Games : 0.078971119133574\n",
      "Board;Brain Games : 0.078971119133574\n",
      "Parenting;Music & Video : 0.06768953068592057\n",
      "Educational;Brain Games : 0.06768953068592057\n",
      "Casual;Creativity : 0.06768953068592057\n",
      "Art & Design;Creativity : 0.06768953068592057\n",
      "Education;Pretend Play : 0.056407942238267145\n",
      "Role Playing;Pretend Play : 0.04512635379061372\n",
      "Education;Creativity : 0.04512635379061372\n",
      "Role Playing;Action & Adventure : 0.033844765342960284\n",
      "Puzzle;Action & Adventure : 0.033844765342960284\n",
      "Entertainment;Creativity : 0.033844765342960284\n",
      "Entertainment;Action & Adventure : 0.033844765342960284\n",
      "Educational;Creativity : 0.033844765342960284\n",
      "Educational;Action & Adventure : 0.033844765342960284\n",
      "Education;Music & Video : 0.033844765342960284\n",
      "Education;Brain Games : 0.033844765342960284\n",
      "Education;Action & Adventure : 0.033844765342960284\n",
      "Adventure;Action & Adventure : 0.033844765342960284\n",
      "Video Players & Editors;Music & Video : 0.02256317689530686\n",
      "Sports;Action & Adventure : 0.02256317689530686\n",
      "Simulation;Pretend Play : 0.02256317689530686\n",
      "Puzzle;Creativity : 0.02256317689530686\n",
      "Music;Music & Video : 0.02256317689530686\n",
      "Entertainment;Pretend Play : 0.02256317689530686\n",
      "Casual;Education : 0.02256317689530686\n",
      "Board;Action & Adventure : 0.02256317689530686\n",
      "Video Players & Editors;Creativity : 0.01128158844765343\n",
      "Trivia;Education : 0.01128158844765343\n",
      "Travel & Local;Action & Adventure : 0.01128158844765343\n",
      "Tools;Education : 0.01128158844765343\n",
      "Strategy;Education : 0.01128158844765343\n",
      "Strategy;Creativity : 0.01128158844765343\n",
      "Strategy;Action & Adventure : 0.01128158844765343\n",
      "Simulation;Education : 0.01128158844765343\n",
      "Role Playing;Brain Games : 0.01128158844765343\n",
      "Racing;Pretend Play : 0.01128158844765343\n",
      "Puzzle;Education : 0.01128158844765343\n",
      "Parenting;Brain Games : 0.01128158844765343\n",
      "Music & Audio;Music & Video : 0.01128158844765343\n",
      "Lifestyle;Pretend Play : 0.01128158844765343\n",
      "Lifestyle;Education : 0.01128158844765343\n",
      "Health & Fitness;Education : 0.01128158844765343\n",
      "Health & Fitness;Action & Adventure : 0.01128158844765343\n",
      "Entertainment;Education : 0.01128158844765343\n",
      "Communication;Creativity : 0.01128158844765343\n",
      "Comics;Creativity : 0.01128158844765343\n",
      "Casual;Music & Video : 0.01128158844765343\n",
      "Card;Action & Adventure : 0.01128158844765343\n",
      "Books & Reference;Education : 0.01128158844765343\n",
      "Art & Design;Pretend Play : 0.01128158844765343\n",
      "Art & Design;Action & Adventure : 0.01128158844765343\n",
      "Arcade;Pretend Play : 0.01128158844765343\n",
      "Adventure;Education : 0.01128158844765343\n"
     ]
    }
   ],
   "source": [
    "print('Display table of Android App Genres:')\n",
    "print('\\n')\n",
    "display_table(android_free_english, 9)"
   ]
  },
  {
   "attachments": {},
   "cell_type": "markdown",
   "id": "8de361c2",
   "metadata": {},
   "source": [
    "The `Genre` section of the Google Play Store (above) reinforces a lot of what we discovered when analyzing the `Category` section. We can see that most of these apps are focused on productivity, as opposed to games."
   ]
  },
  {
   "attachments": {},
   "cell_type": "markdown",
   "id": "97d71d22",
   "metadata": {},
   "source": [
    "Let's take a second to analyze the difference between the `Category` and the `Genre` sections. It is not completely clear, but what we do find is that there are many more genres than there are categories. Because we are looking at bigger picture, we will focuse on the `Category` section going forward."
   ]
  },
  {
   "attachments": {},
   "cell_type": "markdown",
   "id": "cbfa3bd9",
   "metadata": {},
   "source": [
    "#### iOS Data"
   ]
  },
  {
   "attachments": {},
   "cell_type": "markdown",
   "id": "fab6213b",
   "metadata": {},
   "source": [
    "Now we are going to look at the `prime_genre` section of the iOS data (Apple Store)."
   ]
  },
  {
   "cell_type": "code",
   "execution_count": 37,
   "id": "67e4b7ee",
   "metadata": {},
   "outputs": [
    {
     "name": "stdout",
     "output_type": "stream",
     "text": [
      "Display table of iOS App Genres:\n",
      "\n",
      "\n",
      "Games : 58.16263190564867\n",
      "Entertainment : 7.883302296710118\n",
      "Photo & Video : 4.9658597144630665\n",
      "Education : 3.662321539416512\n",
      "Social Networking : 3.2898820608317814\n",
      "Shopping : 2.60707635009311\n",
      "Utilities : 2.5139664804469275\n",
      "Sports : 2.1415270018621975\n",
      "Music : 2.0484171322160147\n",
      "Health & Fitness : 2.0173805090006205\n",
      "Productivity : 1.7380509000620732\n",
      "Lifestyle : 1.5828677839851024\n",
      "News : 1.3345747982619491\n",
      "Travel : 1.2414649286157666\n",
      "Finance : 1.1173184357541899\n",
      "Weather : 0.8690254500310366\n",
      "Food & Drink : 0.8069522036002483\n",
      "Reference : 0.5586592178770949\n",
      "Business : 0.5276225946617008\n",
      "Book : 0.4345127250155183\n",
      "Navigation : 0.186219739292365\n",
      "Medical : 0.186219739292365\n",
      "Catalogs : 0.12414649286157665\n"
     ]
    }
   ],
   "source": [
    "print('Display table of iOS App Genres:')\n",
    "print('\\n')\n",
    "display_table(ios_free_english, 11)"
   ]
  },
  {
   "attachments": {},
   "cell_type": "markdown",
   "id": "06dcc6c3",
   "metadata": {},
   "source": [
    "From the output above, we can see that Games make up over half (58.16%) of the free English apps in the Apple Store. The next highest genre is Entertainment, which makes up for slightly under 8% of the apps. This is a pretty large jump. \n",
    "\n",
    "This data leads us to the conclusion that the Apple Store is focused on providing \"fun\" apps, such as games and entertainment driven apps. \n",
    "\n",
    "However, just because this is the way the apps are divided in the store, it does not necessarily mean that the users are split in the same way. For example, in the Apple Store it is possible, though unlikely, that the vast majority of users are using the 3.66% of Education apps, while only a small minority are downloading the Games. "
   ]
  },
  {
   "attachments": {},
   "cell_type": "markdown",
   "id": "7ca4ce25",
   "metadata": {},
   "source": [
    "## Most Popular Apps By Genre"
   ]
  },
  {
   "attachments": {},
   "cell_type": "markdown",
   "id": "ce503aeb",
   "metadata": {},
   "source": [
    "### Background"
   ]
  },
  {
   "attachments": {},
   "cell_type": "markdown",
   "id": "773de293",
   "metadata": {},
   "source": [
    "From the analyzation earlier, we can see that the Apple Store has more apps designed for the purpose of having fun whereas Google Play seems to have a balance between practical and fun. \n",
    "\n",
    "We are now going to analyze which apps are most *popular* within each genre in each store. Popularity is a difficult concept - does it mean how many plays per day? Rating? \n",
    "\n",
    "For this purpose, we will be using the `Installs` (index 5) section of the Android data and the `rating_count_tot` (index 5) section of the iOS data. These sections in their respective dataset are the best way for us to determine *how many* users each app has. "
   ]
  },
  {
   "attachments": {},
   "cell_type": "markdown",
   "id": "61b1b728",
   "metadata": {},
   "source": [
    "### Creating and Analyzing Popular by Genre Tables"
   ]
  },
  {
   "attachments": {},
   "cell_type": "markdown",
   "id": "746867fe",
   "metadata": {},
   "source": [
    "The functions below will be used for both the Android and iOS data. The first function, `popularity_table` will loop through the dataset, creating a hash table with the keys being distinct genres, and the values being a list of the different apps popularity (number of ratings or installs) within that genre.\n",
    "\n",
    "The second function, `genre popularity`, will call the first function and create that table. It will then loop through that table, printing out each genre and the average of all the numbers in it's list. This will give us the average number of ratings or installs for each genre, which we are using to determine how popular the app genre is.\n",
    "\n",
    "You may notice that the `users_proxy` uses a ternary for assignment. This is because if the string contains a comma, it cannot be coerced into a float. When this is the case, it will be passed as an argument into the `convert` function, which will take out the comma and coerce it to a float. This will be particularly useful for the Android `Install` data, which includes commas."
   ]
  },
  {
   "cell_type": "code",
   "execution_count": 54,
   "id": "79d4ebb0",
   "metadata": {},
   "outputs": [],
   "source": [
    "def popularity_table (dataset, genre_idx, popularity_idx):\n",
    "    popular_table = {}\n",
    "    for app in dataset:\n",
    "        genre = app[genre_idx]\n",
    "        users_proxy = float(app[popularity_idx]) if ',' not in app[popularity_idx] else convert(app[popularity_idx])\n",
    "        if genre not in popular_table:\n",
    "            popular_table[genre] = []\n",
    "        \n",
    "        popular_table[genre].append(users_proxy)\n",
    "    \n",
    "    return popular_table\n",
    "\n",
    "def convert (string):\n",
    "    num_string = ''\n",
    "    for char in string:\n",
    "        if char in '0123456789.':\n",
    "            num_string += char\n",
    "    \n",
    "    return float(num_string) \n",
    "\n",
    "def genre_popularity (dataset, genre_idx, popularity_idx):\n",
    "    users_per_genre_table = popularity_table(dataset, genre_idx, popularity_idx)\n",
    "    for genre in users_per_genre_table:\n",
    "        average = sum(users_per_genre_table[genre]) / len(users_per_genre_table[genre])\n",
    "        print(f'{genre}: {average}')\n"
   ]
  },
  {
   "attachments": {},
   "cell_type": "markdown",
   "id": "58a3672f",
   "metadata": {},
   "source": [
    "#### Android Data"
   ]
  },
  {
   "attachments": {},
   "cell_type": "markdown",
   "id": "bd050ab6",
   "metadata": {},
   "source": [
    "For the Android (Google Play), we will be looking at the average number of installs of each genre to get an idea of its popularity. To start, let's see how this data is set up. We will be viewing it through the display table function set up previously, which will show us the percentage of apps with each amount of installs. "
   ]
  },
  {
   "cell_type": "code",
   "execution_count": 46,
   "id": "babc0bd7",
   "metadata": {},
   "outputs": [
    {
     "name": "stdout",
     "output_type": "stream",
     "text": [
      "1,000,000 : 15.726534296028879\n",
      "100,000 : 11.552346570397113\n",
      "10,000,000 : 10.548285198555957\n",
      "10,000 : 10.198555956678701\n",
      "1,000 : 8.393501805054152\n",
      "100 : 6.915613718411552\n",
      "5,000,000 : 6.825361010830325\n",
      "500,000 : 5.561823104693141\n",
      "50,000 : 4.7721119133574\n",
      "5,000 : 4.512635379061372\n",
      "10 : 3.5424187725631766\n",
      "500 : 3.2490974729241873\n",
      "50,000,000 : 2.3014440433213\n",
      "100,000,000 : 2.1322202166064983\n",
      "50 : 1.917870036101083\n",
      "5 : 0.78971119133574\n",
      "1 : 0.5076714801444043\n",
      "500,000,000 : 0.2707581227436823\n",
      "1,000,000,000 : 0.22563176895306858\n",
      "0 : 0.056407942238267145\n"
     ]
    }
   ],
   "source": [
    "display_table(android_free_english, 5) # Index 5 is the Installs section"
   ]
  },
  {
   "attachments": {},
   "cell_type": "markdown",
   "id": "2954689a",
   "metadata": {},
   "source": [
    "This data seems to be generalized, as it can be assumed that 15% of apps do not have exactly 1,000,000 installs. That being said, the data is good enough for our purposes, since we are looking for popularity and not *exactly* how many installs."
   ]
  },
  {
   "cell_type": "code",
   "execution_count": 57,
   "id": "42aeb189",
   "metadata": {},
   "outputs": [
    {
     "name": "stdout",
     "output_type": "stream",
     "text": [
      "ART_AND_DESIGN: 1986335.0877192982\n",
      "AUTO_AND_VEHICLES: 647317.8170731707\n",
      "BEAUTY: 513151.88679245283\n",
      "BOOKS_AND_REFERENCE: 8767811.894736841\n",
      "BUSINESS: 1712290.1474201474\n",
      "COMICS: 817657.2727272727\n",
      "COMMUNICATION: 38456119.167247385\n",
      "DATING: 854028.8303030303\n",
      "EDUCATION: 1833495.145631068\n",
      "ENTERTAINMENT: 11640705.88235294\n",
      "EVENTS: 253542.22222222222\n",
      "FINANCE: 1387692.475609756\n",
      "FOOD_AND_DRINK: 1924897.7363636363\n",
      "HEALTH_AND_FITNESS: 4188821.9853479853\n",
      "HOUSE_AND_HOME: 1331540.5616438356\n",
      "LIBRARIES_AND_DEMO: 638503.734939759\n",
      "LIFESTYLE: 1437816.2687861272\n",
      "GAME: 15588015.603248259\n",
      "FAMILY: 3695641.8198090694\n",
      "MEDICAL: 120550.61980830671\n",
      "SOCIAL: 23253652.127118643\n",
      "SHOPPING: 7036877.311557789\n",
      "PHOTOGRAPHY: 17840110.40229885\n",
      "SPORTS: 3638640.1428571427\n",
      "TRAVEL_AND_LOCAL: 13984077.710144928\n",
      "TOOLS: 10801391.298666667\n",
      "PERSONALIZATION: 5201482.6122448975\n",
      "PRODUCTIVITY: 16787331.344927534\n",
      "PARENTING: 542603.6206896552\n",
      "WEATHER: 5074486.197183099\n",
      "VIDEO_PLAYERS: 24727872.452830188\n",
      "NEWS_AND_MAGAZINES: 9549178.467741935\n",
      "MAPS_AND_NAVIGATION: 4056941.7741935486\n"
     ]
    }
   ],
   "source": [
    "genre_popularity(android_free_english, 1, 5) # We are using Index 1 for Category, as discussed in the earlier section"
   ]
  },
  {
   "attachments": {},
   "cell_type": "markdown",
   "id": "41cdf98f",
   "metadata": {},
   "source": [
    "This data shows us that `COMMUNICATION` apps have over 35 million installs. Let's take a closer look at the most popular apps in that genre to see if anything is skewing the data."
   ]
  },
  {
   "cell_type": "code",
   "execution_count": 59,
   "id": "25070e17",
   "metadata": {},
   "outputs": [
    {
     "name": "stdout",
     "output_type": "stream",
     "text": [
      "WhatsApp Messenger: 1,000,000,000\n",
      "imo beta free calls and text: 100,000,000\n",
      "Android Messages: 100,000,000\n",
      "Google Duo - High Quality Video Calls: 500,000,000\n",
      "Messenger – Text and Video Chat for Free: 1,000,000,000\n",
      "imo free video calls and chat: 500,000,000\n",
      "Skype - free IM & video calls: 1,000,000,000\n",
      "Who: 100,000,000\n",
      "GO SMS Pro - Messenger, Free Themes, Emoji: 100,000,000\n",
      "LINE: Free Calls & Messages: 500,000,000\n",
      "Google Chrome: Fast & Secure: 1,000,000,000\n",
      "Firefox Browser fast & private: 100,000,000\n",
      "UC Browser - Fast Download Private & Secure: 500,000,000\n",
      "Gmail: 1,000,000,000\n",
      "Hangouts: 1,000,000,000\n",
      "Messenger Lite: Free Calls & Messages: 100,000,000\n",
      "Kik: 100,000,000\n",
      "KakaoTalk: Free Calls & Text: 100,000,000\n",
      "Opera Mini - fast web browser: 100,000,000\n",
      "Opera Browser: Fast and Secure: 100,000,000\n",
      "Telegram: 100,000,000\n",
      "Truecaller: Caller ID, SMS spam blocking & Dialer: 100,000,000\n",
      "UC Browser Mini -Tiny Fast Private & Secure: 100,000,000\n",
      "Viber Messenger: 500,000,000\n",
      "WeChat: 100,000,000\n",
      "Yahoo Mail – Stay Organized: 100,000,000\n",
      "BBM - Free Calls & Messages: 100,000,000\n"
     ]
    }
   ],
   "source": [
    "for app in android_free_english:\n",
    "    high_rating = app[5] == '1,000,000,000' or app[5] == '500,000,000' or app[5] == '100,000,000'\n",
    "    if app[1] == 'COMMUNICATION' and high_rating:\n",
    "        print(f'{app[0]}: {app[5]}')"
   ]
  },
  {
   "attachments": {},
   "cell_type": "markdown",
   "id": "3229402e",
   "metadata": {},
   "source": [
    "We can see that the data is heavily skewed due to a few apps that have a particularly high number of installs, such as *WhatsApp*, *Facebook Messenger*, *Skype*, *Google Chrome*, *Gmail*, etc.\n",
    "\n",
    "Let's now take a look at the `VIDEO_PLAYERS`, which has an average of over 24 million installs. "
   ]
  },
  {
   "cell_type": "code",
   "execution_count": 60,
   "id": "c08d2edb",
   "metadata": {},
   "outputs": [
    {
     "name": "stdout",
     "output_type": "stream",
     "text": [
      "YouTube: 1,000,000,000\n",
      "Motorola Gallery: 100,000,000\n",
      "VLC for Android: 100,000,000\n",
      "Google Play Movies & TV: 1,000,000,000\n",
      "MX Player: 500,000,000\n",
      "Dubsmash: 100,000,000\n",
      "VivaVideo - Video Editor & Photo Movie: 100,000,000\n",
      "VideoShow-Video Editor, Video Maker, Beauty Camera: 100,000,000\n",
      "Motorola FM Radio: 100,000,000\n"
     ]
    }
   ],
   "source": [
    "for app in android_free_english:\n",
    "    high_rating = app[5] == '1,000,000,000' or app[5] == '500,000,000' or app[5] == '100,000,000'\n",
    "    if app[1] == 'VIDEO_PLAYERS' and high_rating:\n",
    "        print(f'{app[0]}: {app[5]}')"
   ]
  },
  {
   "attachments": {},
   "cell_type": "markdown",
   "id": "c3b6ca18",
   "metadata": {},
   "source": [
    "We can see that particularly popular apps, such as *YouTube* and *Google Play Movies & TV*, skew the averages. Even without looking directly at the data, we can guess that other genres that have particularly high averages, such as `SOCIAL` are likely skewed by similar players. \n",
    "\n",
    "This makes it hard to know if the app genres are very popular, or if these players make it seem so. One may also consider that well-made apps in these categories are particularly popular so it could be a good genre to look at anyway, but it is also important to consider that it would be very hard to compete and be seen in a genre that is so dominated by these very popular and well-made apps. \n",
    "\n",
    "The `GAMES` genre seems popular, though it is a pretty saturated market as seen before. The other genre that may be interesting to look into further is `BOOKS_AND_REFERECE` which has an average of almost 9 million installs. "
   ]
  },
  {
   "attachments": {},
   "cell_type": "markdown",
   "id": "5108ef54",
   "metadata": {},
   "source": [
    "#### iOS Data"
   ]
  },
  {
   "attachments": {},
   "cell_type": "markdown",
   "id": "164bcbef",
   "metadata": {},
   "source": [
    "Let's start by taking a look at the data in the `rating_count_tot` column to see how it looks."
   ]
  },
  {
   "attachments": {},
   "cell_type": "markdown",
   "id": "67e342c2",
   "metadata": {},
   "source": [
    "We are going to write some code below that will create a table of ratings for each app genre in the Apple Store dataset. Since this code cannot be used for the Android data, due to the unique challenges of that data, we will not be wrapping it in a reuseable function.\n",
    "\n",
    "The first block of code will loop through the dataset, creating a hash table with the keys being distinct genres, and the keys being a list of the number of ratings for different apps of that genre."
   ]
  },
  {
   "cell_type": "code",
   "execution_count": 40,
   "id": "8c9dedb7",
   "metadata": {},
   "outputs": [],
   "source": [
    "ios_popular_table = {}\n",
    "\n",
    "for app in ios_free_english:\n",
    "    genre = app[11]\n",
    "    rating = float(app[5])\n",
    "    if genre not in ios_popular_table:\n",
    "        ios_popular_table[genre] = []\n",
    "    \n",
    "    ios_popular_table[genre].append(rating)\n",
    "    "
   ]
  },
  {
   "attachments": {},
   "cell_type": "markdown",
   "id": "98b646f3",
   "metadata": {},
   "source": [
    "We will then loop through that tables, printing out each genre and it's corresponding average number of ratings. This will give us the average number of ratings for each genre, which we are using as a proxy for the average number of installs, since that information is not available in the Apple Store dataset. This will be used to give us a glimpse into how poplular the app genre is."
   ]
  },
  {
   "cell_type": "code",
   "execution_count": 42,
   "id": "258458c8",
   "metadata": {},
   "outputs": [
    {
     "name": "stdout",
     "output_type": "stream",
     "text": [
      "Social Networking: 71548.34905660378\n",
      "Photo & Video: 28441.54375\n",
      "Games: 22788.6696905016\n",
      "Music: 57326.530303030304\n",
      "Reference: 74942.11111111111\n",
      "Health & Fitness: 23298.015384615384\n",
      "Weather: 52279.892857142855\n",
      "Utilities: 18684.456790123455\n",
      "Travel: 28243.8\n",
      "Shopping: 26919.690476190477\n",
      "News: 21248.023255813954\n",
      "Navigation: 86090.33333333333\n",
      "Lifestyle: 16485.764705882353\n",
      "Entertainment: 14029.830708661417\n",
      "Food & Drink: 33333.92307692308\n",
      "Sports: 23008.898550724636\n",
      "Book: 39758.5\n",
      "Finance: 31467.944444444445\n",
      "Education: 7003.983050847458\n",
      "Productivity: 21028.410714285714\n",
      "Business: 7491.117647058823\n",
      "Catalogs: 4004.0\n",
      "Medical: 612.0\n"
     ]
    }
   ],
   "source": [
    "for genre in ios_popular_table:\n",
    "    average = sum(ios_popular_table[genre]) / len(ios_popular_table[genre])\n",
    "    print(f'{genre}: {average}')"
   ]
  },
  {
   "attachments": {},
   "cell_type": "markdown",
   "id": "d008f280",
   "metadata": {},
   "source": [
    "After a quick glance, we can see that `Navigation` apps have the highest number of reviews, followed by `Reference` and `Social Networking`. \n",
    "\n",
    "In the next few code blocks, we are going to take a closer look at which apps are in those sections."
   ]
  },
  {
   "cell_type": "code",
   "execution_count": 43,
   "id": "61251df5",
   "metadata": {},
   "outputs": [
    {
     "name": "stdout",
     "output_type": "stream",
     "text": [
      "Waze - GPS Navigation, Maps & Real-time Traffic: 345046\n",
      "Google Maps - Navigation & Transit: 154911\n",
      "Geocaching®: 12811\n",
      "CoPilot GPS – Car Navigation & Offline Maps: 3582\n",
      "ImmobilienScout24: Real Estate Search in Germany: 187\n",
      "Railway Route Search: 5\n"
     ]
    }
   ],
   "source": [
    "for app in ios_free_english:\n",
    "    if app[11] == 'Navigation':\n",
    "        print(f'{app[1]}: {app[5]}') # We will be printing the name of the app and the number of ratings"
   ]
  },
  {
   "cell_type": "code",
   "execution_count": 44,
   "id": "cfc85450",
   "metadata": {},
   "outputs": [
    {
     "name": "stdout",
     "output_type": "stream",
     "text": [
      "Bible: 985920\n",
      "Dictionary.com Dictionary & Thesaurus: 200047\n",
      "Dictionary.com Dictionary & Thesaurus for iPad: 54175\n",
      "Google Translate: 26786\n",
      "Muslim Pro: Ramadan 2017 Prayer Times, Azan, Quran: 18418\n",
      "New Furniture Mods - Pocket Wiki & Game Tools for Minecraft PC Edition: 17588\n",
      "Merriam-Webster Dictionary: 16849\n",
      "Night Sky: 12122\n",
      "City Maps for Minecraft PE - The Best Maps for Minecraft Pocket Edition (MCPE): 8535\n",
      "LUCKY BLOCK MOD ™ for Minecraft PC Edition - The Best Pocket Wiki & Mods Installer Tools: 4693\n",
      "GUNS MODS for Minecraft PC Edition - Mods Tools: 1497\n",
      "Guides for Pokémon GO - Pokemon GO News and Cheats: 826\n",
      "WWDC: 762\n",
      "Horror Maps for Minecraft PE - Download The Scariest Maps for Minecraft Pocket Edition (MCPE) Free: 718\n",
      "VPN Express: 14\n",
      "Real Bike Traffic Rider Virtual Reality Glasses: 8\n",
      "教えて!goo: 0\n",
      "Jishokun-Japanese English Dictionary & Translator: 0\n"
     ]
    }
   ],
   "source": [
    "for app in ios_free_english:\n",
    "    if app[11] == 'Reference':\n",
    "        print(f'{app[1]}: {app[5]}')"
   ]
  },
  {
   "cell_type": "code",
   "execution_count": 45,
   "id": "8e5974e8",
   "metadata": {},
   "outputs": [
    {
     "name": "stdout",
     "output_type": "stream",
     "text": [
      "Facebook: 2974676\n",
      "Pinterest: 1061624\n",
      "Skype for iPhone: 373519\n",
      "Messenger: 351466\n",
      "Tumblr: 334293\n",
      "WhatsApp Messenger: 287589\n",
      "Kik: 260965\n",
      "ooVoo – Free Video Call, Text and Voice: 177501\n",
      "TextNow - Unlimited Text + Calls: 164963\n",
      "Viber Messenger – Text & Call: 164249\n",
      "Followers - Social Analytics For Instagram: 112778\n",
      "MeetMe - Chat and Meet New People: 97072\n",
      "We Heart It - Fashion, wallpapers, quotes, tattoos: 90414\n",
      "InsTrack for Instagram - Analytics Plus More: 85535\n",
      "Tango - Free Video Call, Voice and Chat: 75412\n",
      "LinkedIn: 71856\n",
      "Match™ - #1 Dating App.: 60659\n",
      "Skype for iPad: 60163\n",
      "POF - Best Dating App for Conversations: 52642\n",
      "Timehop: 49510\n",
      "Find My Family, Friends & iPhone - Life360 Locator: 43877\n",
      "Whisper - Share, Express, Meet: 39819\n",
      "Hangouts: 36404\n",
      "LINE PLAY - Your Avatar World: 34677\n",
      "WeChat: 34584\n",
      "Badoo - Meet New People, Chat, Socialize.: 34428\n",
      "Followers + for Instagram - Follower Analytics: 28633\n",
      "GroupMe: 28260\n",
      "Marco Polo Video Walkie Talkie: 27662\n",
      "Miitomo: 23965\n",
      "SimSimi: 23530\n",
      "Grindr - Gay and same sex guys chat, meet and date: 23201\n",
      "Wishbone - Compare Anything: 20649\n",
      "imo video calls and chat: 18841\n",
      "After School - Funny Anonymous School News: 18482\n",
      "Quick Reposter - Repost, Regram and Reshare Photos: 17694\n",
      "Weibo HD: 16772\n",
      "Repost for Instagram: 15185\n",
      "Live.me – Live Video Chat & Make Friends Nearby: 14724\n",
      "Nextdoor: 14402\n",
      "Followers Analytics for Instagram - InstaReport: 13914\n",
      "YouNow: Live Stream Video Chat: 12079\n",
      "FollowMeter for Instagram - Followers Tracking: 11976\n",
      "LINE: 11437\n",
      "eHarmony™ Dating App - Meet Singles: 11124\n",
      "Discord - Chat for Gamers: 9152\n",
      "QQ: 9109\n",
      "Telegram Messenger: 7573\n",
      "Weibo: 7265\n",
      "Periscope - Live Video Streaming Around the World: 6062\n",
      "Chat for Whatsapp - iPad Version: 5060\n",
      "QQ HD: 5058\n",
      "Followers Analysis Tool For Instagram App Free: 4253\n",
      "live.ly - live video streaming: 4145\n",
      "Houseparty - Group Video Chat: 3991\n",
      "SOMA Messenger: 3232\n",
      "Monkey: 3060\n",
      "Down To Lunch: 2535\n",
      "Flinch - Video Chat Staring Contest: 2134\n",
      "Highrise - Your Avatar Community: 2011\n",
      "LOVOO - Dating Chat: 1985\n",
      "PlayStation®Messages: 1918\n",
      "BOO! - Video chat camera with filters & stickers: 1805\n",
      "Qzone: 1649\n",
      "Chatous - Chat with new people: 1609\n",
      "Kiwi - Q&A: 1538\n",
      "GhostCodes - a discovery app for Snapchat: 1313\n",
      "Jodel: 1193\n",
      "FireChat: 1037\n",
      "Google Duo - simple video calling: 1033\n",
      "Fiesta by Tango - Chat & Meet New People: 885\n",
      "Google Allo — smart messaging: 862\n",
      "Peach — share vividly: 727\n",
      "Hey! VINA - Where Women Meet New Friends: 719\n",
      "Battlefield™ Companion: 689\n",
      "All Devices for WhatsApp - Messenger for iPad: 682\n",
      "Chat for Pokemon Go - GoChat: 500\n",
      "IAmNaughty – Dating App to Meet New People Online: 463\n",
      "Qzone HD: 458\n",
      "Zenly - Locate your friends in realtime: 427\n",
      "League of Legends Friends: 420\n",
      "豆瓣: 407\n",
      "Candid - Speak Your Mind Freely: 398\n",
      "知乎: 397\n",
      "Selfeo: 366\n",
      "Fake-A-Location Free ™: 354\n",
      "Popcorn Buzz - Free Group Calls: 281\n",
      "Fam — Group video calling for iMessage: 279\n",
      "QQ International: 274\n",
      "Ameba: 269\n",
      "SoundCloud Pulse: for creators: 240\n",
      "Tantan: 235\n",
      "Cougar Dating & Life Style App for Mature Women: 213\n",
      "Rawr Messenger - Dab your chat: 180\n",
      "WhenToPost: Best Time to Post Photos for Instagram: 158\n",
      "Inke—Broadcast an amazing life: 147\n",
      "Mustknow - anonymous video Q&A: 53\n",
      "CTFxCmoji: 39\n",
      "Lobi: 36\n",
      "Chain: Collaborate On MyVideo Story/Group Video: 35\n",
      "botman - Real time video chat: 7\n",
      "BestieBox: 0\n",
      "MATCH ON LINE chat: 0\n",
      "niconico ch: 0\n",
      "LINE BLOG: 0\n",
      "bit-tube - Live Stream Video Chat: 0\n"
     ]
    }
   ],
   "source": [
    "for app in ios_free_english:\n",
    "    if app[11] == 'Social Networking':\n",
    "        print(f'{app[1]}: {app[5]}')"
   ]
  },
  {
   "attachments": {},
   "cell_type": "markdown",
   "id": "6f84e709",
   "metadata": {},
   "source": [
    "We can see that the `Navigation` app rating averages are heavily influenced by *Waze* and *Google Maps*, while the `Reference` apps are heavily influenced by *Bible* and *Dictionary.com*. `Social Networking` averages have a similar pattern due to *Facebook*, *Pinterest*, and other large popular apps. \n",
    "\n",
    "Music, Weather, Food & Drink, and Finance also are on the higher side in terms of average user ratings. However, these would not work for our purposes for the reasons listed below, so we will not be looking into them further.\n",
    "\n",
    "- `Weather`: Generally, weather apps are looked at quickly so there would not be a lot of opportunity for in-app ads being profitable. Additionally, it would likely require access to connect to expensive APIs. \n",
    "- `Food & Drink`: Popular food-based apps revolve around a specific store that uses that app to sell their products. We are building an app, not a restaurant or physical service, so this wouldn't be helpful for us\n",
    "- `Finance`: These apps require specific financial knowledge, which would require us to hire an entire team dedicated to the financial side of the app. This is not a route we are interested in taking.\n",
    "- `Music`: The popular music apps are dedicated to downloading and listening to music, which would require some tier of payment for them to be profitable due to the cost of the music itself."
   ]
  },
  {
   "cell_type": "markdown",
   "id": "d0fbee1e",
   "metadata": {},
   "source": []
  }
 ],
 "metadata": {
  "kernelspec": {
   "display_name": "base",
   "language": "python",
   "name": "python3"
  },
  "language_info": {
   "codemirror_mode": {
    "name": "ipython",
    "version": 3
   },
   "file_extension": ".py",
   "mimetype": "text/x-python",
   "name": "python",
   "nbconvert_exporter": "python",
   "pygments_lexer": "ipython3",
   "version": "3.9.13"
  },
  "vscode": {
   "interpreter": {
    "hash": "0b8f86c0071fc00d7e88b26613972e39b3b877cf8c7a34deaa7d1c4f9ccc499c"
   }
  }
 },
 "nbformat": 4,
 "nbformat_minor": 5
}
