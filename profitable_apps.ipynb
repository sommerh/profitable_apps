{
 "cells": [
  {
   "attachments": {},
   "cell_type": "markdown",
   "id": "5e917548",
   "metadata": {},
   "source": [
    "# Profitable Apps in Google Play & App Store Markets"
   ]
  },
  {
   "attachments": {},
   "cell_type": "markdown",
   "id": "601b55fc",
   "metadata": {},
   "source": [
    "The goal of this project is to determine what makes an app profitable on both the Google Play and App Store markets. This would allow a company to make decisions on which apps to build based on data. \n",
    "\n",
    "For the sake of this project, the assumption is that all apps that will be made are free, for English-speaking users, and depend heavily on in-app ads. As a result, the number of users heavily influences the profitability of the app. "
   ]
  },
  {
   "attachments": {},
   "cell_type": "markdown",
   "id": "41fdfd63",
   "metadata": {},
   "source": [
    "## Opening the Data"
   ]
  },
  {
   "attachments": {},
   "cell_type": "markdown",
   "id": "e9a13e70",
   "metadata": {},
   "source": [
    "In order to achieve this goal, I reviewed data from two sources:\n",
    "- [Google Play](https://www.kaggle.com/datasets/lava18/google-play-store-apps): collected in August 2018 and containing approximately 10,000 apps\n",
    "- [App Store](https://www.kaggle.com/datasets/ramamet4/app-store-apple-data-set-10k-apps): collected in July 2017 and containing approximately 7,000 apps"
   ]
  },
  {
   "cell_type": "code",
   "execution_count": 1,
   "id": "949d5a64",
   "metadata": {},
   "outputs": [],
   "source": [
    "from csv import reader\n",
    "\n",
    "#Google Play\n",
    "read_file = reader(open('googleplaystore.csv'))\n",
    "android_data = list(read_file)\n",
    "android_header = android_data[0]\n",
    "android = android_data[1:]\n",
    "\n",
    "#App Store\n",
    "read_file = reader(open('AppleStore.csv'))\n",
    "ios_data = list(read_file)\n",
    "ios_header = ios_data[0]\n",
    "ios = ios_data[1:]"
   ]
  },
  {
   "attachments": {},
   "cell_type": "markdown",
   "id": "d840bb9f",
   "metadata": {},
   "source": [
    "## Exploring the Data"
   ]
  },
  {
   "attachments": {},
   "cell_type": "markdown",
   "id": "a413a64e",
   "metadata": {},
   "source": [
    "The function below will help in exploring the data by slicing the data to only the rows that we we interested in, while also printing them in a more readable way. Keep in mind that the `end` parameter is not inclusive.\n",
    "\n",
    "If the row_and_columns argument is `True`, then it will also let us know how many rows (apps) and columns (data points for each app) are in the data."
   ]
  },
  {
   "cell_type": "code",
   "execution_count": 2,
   "id": "613cafe6",
   "metadata": {},
   "outputs": [],
   "source": [
    "def explore_data(dataset, start, end, rows_and_columns=False):\n",
    "    for row in dataset[start:end]:\n",
    "        print(row)\n",
    "        print('\\n')\n",
    "    \n",
    "    if rows_and_columns:\n",
    "        print('Number of rows:', len(dataset))\n",
    "        print('Number of columns:', len(dataset[0]))"
   ]
  },
  {
   "attachments": {},
   "cell_type": "markdown",
   "id": "91fdafa0",
   "metadata": {},
   "source": [
    "Let's take a look at the Android Data column names, along with some random rows of data. We will also determine how many rows and columns there are in this set. "
   ]
  },
  {
   "cell_type": "code",
   "execution_count": 3,
   "id": "416dfbd3",
   "metadata": {},
   "outputs": [
    {
     "name": "stdout",
     "output_type": "stream",
     "text": [
      "['App', 'Category', 'Rating', 'Reviews', 'Size', 'Installs', 'Type', 'Price', 'Content Rating', 'Genres', 'Last Updated', 'Current Ver', 'Android Ver']\n",
      "\n",
      "\n",
      "['Photo Editor & Candy Camera & Grid & ScrapBook', 'ART_AND_DESIGN', '4.1', '159', '19M', '10,000', 'Free', '0', 'Everyone', 'Art & Design', 'January 7, 2018', '1.0.0', '4.0.3 and up']\n",
      "\n",
      "\n",
      "['Coloring book moana', 'ART_AND_DESIGN', '3.9', '967', '14M', '500,000', 'Free', '0', 'Everyone', 'Art & Design;Pretend Play', 'January 15, 2018', '2.0.0', '4.0.3 and up']\n",
      "\n",
      "\n",
      "['U Launcher Lite – FREE Live Cool Themes, Hide Apps', 'ART_AND_DESIGN', '4.7', '87510', '8.7M', '5,000,000', 'Free', '0', 'Everyone', 'Art & Design', 'August 1, 2018', '1.2.4', '4.0.3 and up']\n",
      "\n",
      "\n",
      "['Sketch - Draw & Paint', 'ART_AND_DESIGN', '4.5', '215644', '25M', '50,000,000', 'Free', '0', 'Teen', 'Art & Design', 'June 8, 2018', 'Varies with device', '4.2 and up']\n",
      "\n",
      "\n",
      "['Pixel Draw - Number Art Coloring Book', 'ART_AND_DESIGN', '4.3', '967', '2.8M', '100,000', 'Free', '0', 'Everyone', 'Art & Design;Creativity', 'June 20, 2018', '1.1', '4.4 and up']\n",
      "\n",
      "\n",
      "Number of rows: 10841\n",
      "Number of columns: 13\n",
      "None\n"
     ]
    }
   ],
   "source": [
    "print(android_header)\n",
    "print('\\n')\n",
    "print(explore_data(android, 0, 5, True))"
   ]
  },
  {
   "attachments": {},
   "cell_type": "markdown",
   "id": "a9e0627c",
   "metadata": {},
   "source": [
    "We can quickly see that the Android data had 10,841 apps with 13 columns. At a glance, I would think that `App`, `Category`, `Reviews`, `Installs`, `Type`, `Price`, and `Genres` will be useful."
   ]
  },
  {
   "attachments": {},
   "cell_type": "markdown",
   "id": "acf1ac43",
   "metadata": {},
   "source": [
    "Now, let's do the same for the iOS data:"
   ]
  },
  {
   "cell_type": "code",
   "execution_count": 4,
   "id": "244e9a2c",
   "metadata": {},
   "outputs": [
    {
     "name": "stdout",
     "output_type": "stream",
     "text": [
      "['id', 'track_name', 'size_bytes', 'currency', 'price', 'rating_count_tot', 'rating_count_ver', 'user_rating', 'user_rating_ver', 'ver', 'cont_rating', 'prime_genre', 'sup_devices.num', 'ipadSc_urls.num', 'lang.num', 'vpp_lic']\n",
      "\n",
      "\n",
      "['284882215', 'Facebook', '389879808', 'USD', '0.0', '2974676', '212', '3.5', '3.5', '95.0', '4', 'Social Networking', '37', '1', '29', '1']\n",
      "\n",
      "\n",
      "['389801252', 'Instagram', '113954816', 'USD', '0.0', '2161558', '1289', '4.5', '4.0', '10.23', '12', 'Photo & Video', '37', '0', '29', '1']\n",
      "\n",
      "\n",
      "['529479190', 'Clash of Clans', '116476928', 'USD', '0.0', '2130805', '579', '4.5', '4.5', '9.24.12', '9', 'Games', '38', '5', '18', '1']\n",
      "\n",
      "\n",
      "['420009108', 'Temple Run', '65921024', 'USD', '0.0', '1724546', '3842', '4.5', '4.0', '1.6.2', '9', 'Games', '40', '5', '1', '1']\n",
      "\n",
      "\n",
      "['284035177', 'Pandora - Music & Radio', '130242560', 'USD', '0.0', '1126879', '3594', '4.0', '4.5', '8.4.1', '12', 'Music', '37', '4', '1', '1']\n",
      "\n",
      "\n",
      "Number of rows: 7197\n",
      "Number of columns: 16\n",
      "None\n"
     ]
    }
   ],
   "source": [
    "print(ios_header)\n",
    "print('\\n')\n",
    "print(explore_data(ios, 0, 5, True))"
   ]
  },
  {
   "attachments": {},
   "cell_type": "markdown",
   "id": "9d1a173e",
   "metadata": {},
   "source": [
    "The iOS data consists of 7,197 apps and has 16 columns. At a glance, `track_name`, `currency`, `price`, `rating_count_tot`, `rating_count_ver` and `prime_genre` will be useful. \n",
    "\n",
    "_Note_: These column names are a bit harder to understand. You can find their descriptions in the data documentation link found in the 'Opening the Data' section."
   ]
  },
  {
   "attachments": {},
   "cell_type": "markdown",
   "id": "5ca35927",
   "metadata": {},
   "source": [
    "## Data Cleaning"
   ]
  },
  {
   "attachments": {},
   "cell_type": "markdown",
   "id": "7c68a4aa",
   "metadata": {},
   "source": [
    "We are going to start data cleaning by checking the discussion threads to if there is any missing data that has been previously found. "
   ]
  },
  {
   "attachments": {},
   "cell_type": "markdown",
   "id": "2370547d",
   "metadata": {},
   "source": [
    "The Google Play discussion section includes [a thread](https://www.kaggle.com/datasets/lava18/google-play-store-apps/discussion/66015) for an error on row 10472 (if using full data set with header, it will be row 10473)."
   ]
  },
  {
   "cell_type": "code",
   "execution_count": 5,
   "id": "3fbb5144",
   "metadata": {},
   "outputs": [
    {
     "name": "stdout",
     "output_type": "stream",
     "text": [
      "App: Life Made WI-Fi Touchscreen Photo Frame \n",
      "Category: 1.9 \n",
      "Rating: 19 \n",
      "Reviews: 3.0M \n",
      "Size: 1,000 \n",
      "Installs: Free \n",
      "Type: 0 \n",
      "Price: Everyone \n",
      "Content Rating:  \n",
      "Genres: February 11, 2018 \n",
      "Last Updated: 1.0.19 \n",
      "Current Ver: 4.0 and up \n",
      "Android Ver:  \n"
     ]
    }
   ],
   "source": [
    "for i in range(len(android[0])):\n",
    "    print (f'{android_header[i]}: {android[10472][i]} ')"
   ]
  },
  {
   "attachments": {},
   "cell_type": "markdown",
   "id": "3523fc47",
   "metadata": {},
   "source": [
    "Looking at this, we can definitely see that something is off. Upon further exploration, it seems that the `Category` and `Genres` are missing, which is causing all other data to get moved. \n",
    "\n",
    "There are several ways of handling this, including deleting the row outright or finding the missing information, adding it into the set, and moving the other information to this correct place. For the sake of this project, I will delete it outright."
   ]
  },
  {
   "cell_type": "code",
   "execution_count": 6,
   "id": "af98ecfd",
   "metadata": {},
   "outputs": [],
   "source": [
    "del android[10472]"
   ]
  },
  {
   "attachments": {},
   "cell_type": "markdown",
   "id": "891ee523",
   "metadata": {},
   "source": [
    "The previous number of rows was 10,841. If the below prints as one less, the delete was successful."
   ]
  },
  {
   "cell_type": "code",
   "execution_count": 7,
   "id": "d8a24915",
   "metadata": {},
   "outputs": [
    {
     "name": "stdout",
     "output_type": "stream",
     "text": [
      "10840\n"
     ]
    }
   ],
   "source": [
    "print(len(android))"
   ]
  },
  {
   "attachments": {},
   "cell_type": "markdown",
   "id": "06d0e790",
   "metadata": {},
   "source": [
    "### Removing Duplicate Entries"
   ]
  },
  {
   "attachments": {},
   "cell_type": "markdown",
   "id": "d05766f2",
   "metadata": {},
   "source": [
    "The function below can be called on either data set to determine if and how many potential duplicates exist in the data set. For Android data the 0th index of each row is the app name. In the iOS data, the 0th index is the app ID. Both of these work for testing if the app is unique. "
   ]
  },
  {
   "cell_type": "code",
   "execution_count": 8,
   "id": "c0fa3e8c",
   "metadata": {},
   "outputs": [],
   "source": [
    "def duplicates(dataset):\n",
    "    duplicate_apps = []\n",
    "    unique_apps = []\n",
    "    \n",
    "    for app in dataset:\n",
    "        if app[0] not in unique_apps:\n",
    "            unique_apps.append(app[0])\n",
    "        else:\n",
    "            duplicate_apps.append(app[0])\n",
    "    \n",
    "    return duplicate_apps\n",
    "\n",
    "android_duplicates = duplicates(android)\n",
    "ios_duplicates = duplicates(ios)"
   ]
  },
  {
   "attachments": {},
   "cell_type": "markdown",
   "id": "7bc7c2bd",
   "metadata": {},
   "source": [
    "#### Android Data"
   ]
  },
  {
   "attachments": {},
   "cell_type": "markdown",
   "id": "364c554b",
   "metadata": {},
   "source": [
    "I will look at the Android data first."
   ]
  },
  {
   "cell_type": "code",
   "execution_count": 9,
   "id": "c04e556e",
   "metadata": {},
   "outputs": [
    {
     "name": "stdout",
     "output_type": "stream",
     "text": [
      "Number of duplicate apps: 1181\n"
     ]
    }
   ],
   "source": [
    "print('Number of duplicate apps:', len(android_duplicates))"
   ]
  },
  {
   "cell_type": "code",
   "execution_count": 10,
   "id": "45ccb3d3",
   "metadata": {},
   "outputs": [
    {
     "name": "stdout",
     "output_type": "stream",
     "text": [
      "Examples of duplicate apps: ['Quick PDF Scanner + OCR FREE', 'Box', 'Google My Business', 'ZOOM Cloud Meetings', 'join.me - Simple Meetings', 'Box', 'Zenefits', 'Google Ads', 'Google My Business', 'Slack', 'FreshBooks Classic', 'Insightly CRM', 'QuickBooks Accounting: Invoicing & Expenses', 'HipChat - Chat Built for Teams', 'Xero Accounting Software']\n"
     ]
    }
   ],
   "source": [
    "print('Examples of duplicate apps:', android_duplicates[:15])"
   ]
  },
  {
   "attachments": {},
   "cell_type": "markdown",
   "id": "c9de577b",
   "metadata": {},
   "source": [
    "I will be picking a couple of random duplicate names and will print them out to see if I can find any differences with them. This will help me come up with criterion to use for determining which duplicate to delete.\n",
    "\n",
    "To make this easier, I will create a function that I can call for each dataset and name I want to check."
   ]
  },
  {
   "cell_type": "code",
   "execution_count": 11,
   "id": "8ebb0b36",
   "metadata": {},
   "outputs": [
    {
     "name": "stdout",
     "output_type": "stream",
     "text": [
      "['Box', 'BUSINESS', '4.2', '159872', 'Varies with device', '10,000,000', 'Free', '0', 'Everyone', 'Business', 'July 31, 2018', 'Varies with device', 'Varies with device']\n",
      "['Box', 'BUSINESS', '4.2', '159872', 'Varies with device', '10,000,000', 'Free', '0', 'Everyone', 'Business', 'July 31, 2018', 'Varies with device', 'Varies with device']\n",
      "['Box', 'BUSINESS', '4.2', '159872', 'Varies with device', '10,000,000', 'Free', '0', 'Everyone', 'Business', 'July 31, 2018', 'Varies with device', 'Varies with device']\n"
     ]
    }
   ],
   "source": [
    "def specific_duplicates(dataset, name):\n",
    "    for app in dataset:\n",
    "        if app[0] == name:\n",
    "            print(app)\n",
    "            \n",
    "specific_duplicates(android, 'Box')"
   ]
  },
  {
   "cell_type": "code",
   "execution_count": 12,
   "id": "7187ad4b",
   "metadata": {},
   "outputs": [
    {
     "name": "stdout",
     "output_type": "stream",
     "text": [
      "['Google Ads', 'BUSINESS', '4.3', '29313', '20M', '5,000,000', 'Free', '0', 'Everyone', 'Business', 'July 30, 2018', '1.12.0', '4.0.3 and up']\n",
      "['Google Ads', 'BUSINESS', '4.3', '29313', '20M', '5,000,000', 'Free', '0', 'Everyone', 'Business', 'July 30, 2018', '1.12.0', '4.0.3 and up']\n",
      "['Google Ads', 'BUSINESS', '4.3', '29331', '20M', '5,000,000', 'Free', '0', 'Everyone', 'Business', 'July 30, 2018', '1.12.0', '4.0.3 and up']\n"
     ]
    }
   ],
   "source": [
    "specific_duplicates(android, 'Google Ads')"
   ]
  },
  {
   "cell_type": "code",
   "execution_count": 13,
   "id": "f81f4530",
   "metadata": {},
   "outputs": [
    {
     "name": "stdout",
     "output_type": "stream",
     "text": [
      "['Slack', 'BUSINESS', '4.4', '51507', 'Varies with device', '5,000,000', 'Free', '0', 'Everyone', 'Business', 'August 2, 2018', 'Varies with device', 'Varies with device']\n",
      "['Slack', 'BUSINESS', '4.4', '51507', 'Varies with device', '5,000,000', 'Free', '0', 'Everyone', 'Business', 'August 2, 2018', 'Varies with device', 'Varies with device']\n",
      "['Slack', 'BUSINESS', '4.4', '51510', 'Varies with device', '5,000,000', 'Free', '0', 'Everyone', 'Business', 'August 2, 2018', 'Varies with device', 'Varies with device']\n"
     ]
    }
   ],
   "source": [
    "specific_duplicates(android, 'Slack')"
   ]
  },
  {
   "attachments": {},
   "cell_type": "markdown",
   "id": "392c70af",
   "metadata": {},
   "source": [
    "Several of the duplicates of the apps I checked seem to be the same. However, in 'Slack' I can see that the number of ratings is different. It is fair to assume that, since everything else is the same, the apps with the same name are the same apps with the data collected at different times. \n",
    "\n",
    "Thus, the app with more ratings was likely collected last, and will be the row that is kept, while the others are deleted."
   ]
  },
  {
   "cell_type": "code",
   "execution_count": 14,
   "id": "8d8f20f3",
   "metadata": {},
   "outputs": [
    {
     "name": "stdout",
     "output_type": "stream",
     "text": [
      "Expected length after removal of duplicates: 9659\n"
     ]
    }
   ],
   "source": [
    "expected_clean_length_android = len(android) - 1181\n",
    "print('Expected length after removal of duplicates:', len(android) - 1181)"
   ]
  },
  {
   "attachments": {},
   "cell_type": "markdown",
   "id": "ae892633",
   "metadata": {},
   "source": [
    "We now know that the expected length of our dataset after we remove the duplicates is 9.659. We are going to use a dictionary to determine a list of all the apps that should be in our clean dataset. The criterion for adding to the dictionary is: (1) the app is not already in there; or (2) if the app is already in there with a lower rating it will be replaced with the current one. \n",
    "\n",
    "If the length of the dictionary is the same as the expected length after removal of duplicates, it was done correctly. "
   ]
  },
  {
   "cell_type": "code",
   "execution_count": 15,
   "id": "dd026836",
   "metadata": {},
   "outputs": [
    {
     "name": "stdout",
     "output_type": "stream",
     "text": [
      "9659\n"
     ]
    }
   ],
   "source": [
    "ratings_max = {}\n",
    "\n",
    "for app in android:\n",
    "    name = app[0]\n",
    "    n_reviews = float(app[3])\n",
    "    if name not in ratings_max or (name in ratings_max and ratings_max[name] < n_reviews):\n",
    "        ratings_max[name] = n_reviews\n",
    "        \n",
    "print(len(ratings_max))"
   ]
  },
  {
   "attachments": {},
   "cell_type": "markdown",
   "id": "e0be78e5",
   "metadata": {},
   "source": [
    "Using the `ratings_max` dictionary, we will remove the duplicates from the android data. To do this, we will iterate through the android data set, only adding an app to the new clean dataset if it matches the name and ratings in `ratings_max` and has not already been added.\n",
    "\n",
    "To test that this was successful, we will check the length of the clean data. If it equals the expected length (9,659) then we can be confident it was successful."
   ]
  },
  {
   "cell_type": "code",
   "execution_count": 16,
   "id": "4b5ad905",
   "metadata": {},
   "outputs": [
    {
     "name": "stdout",
     "output_type": "stream",
     "text": [
      "The length of the clean data is: 9659\n",
      "Cleaning android data was successful: True\n"
     ]
    }
   ],
   "source": [
    "android_clean = []\n",
    "already_added = []\n",
    "\n",
    "for app in android:\n",
    "    name = app[0]\n",
    "    n_reviews = float(app[3])\n",
    "    if n_reviews == ratings_max[name] and name not in already_added:\n",
    "        already_added.append(name)\n",
    "        android_clean.append(app)\n",
    "\n",
    "print('The length of the clean data is:', len(android_clean))\n",
    "print('Cleaning android data was successful:', expected_clean_length_android == len(android_clean))"
   ]
  },
  {
   "attachments": {},
   "cell_type": "markdown",
   "id": "f4445e78",
   "metadata": {},
   "source": [
    "#### iOS Data"
   ]
  },
  {
   "attachments": {},
   "cell_type": "markdown",
   "id": "9eef2042",
   "metadata": {},
   "source": [
    "Now onto the iOS data. I am going to start in the same way: by examining the number of duplicates, printing some of the names out, and examining the specific apps for trends."
   ]
  },
  {
   "cell_type": "code",
   "execution_count": 17,
   "id": "0742706b",
   "metadata": {},
   "outputs": [
    {
     "name": "stdout",
     "output_type": "stream",
     "text": [
      "Number of duplicate iOS apps: 0\n"
     ]
    }
   ],
   "source": [
    "print('Number of duplicate iOS apps:', len(ios_duplicates))"
   ]
  },
  {
   "attachments": {},
   "cell_type": "markdown",
   "id": "d9b160db",
   "metadata": {},
   "source": [
    "According to this, there are no duplicates in the iOS data. This is great and allows us to continue to the next step. As mentioned earlier, we will be focusing only on free apps for English-speakers. Let's remove all non-English apps, to start."
   ]
  },
  {
   "attachments": {},
   "cell_type": "markdown",
   "id": "e1a71f52",
   "metadata": {},
   "source": [
    "### Removing Non-English Apps"
   ]
  },
  {
   "attachments": {},
   "cell_type": "markdown",
   "id": "608d9f44",
   "metadata": {},
   "source": [
    "In this section, we will be removing all non-English apps from the list. \n",
    "\n",
    "According to the American Standard Code for Information Interchange (ASCII), all characters have a cooresponding number to identify them. Characters that are generally used in English text range from 0 to 127. It is important to note that non-English characters that are used commonly with the English language, such as emojis and symbols, are above 127.\n",
    "\n",
    "This information will help us create a function that detects whether or not a given character is part of the English language. \n",
    "\n",
    "Our function will take a string and will iterate through each character in the string, checking if it is between the given range. If the name of an app includes more than 3 characters above 127, it would be fair to assume that the app name is not English and, therefore, the app is not in English. \n",
    "\n",
    "We specify 3 characters to prevent the app removing app in English that include emojis or symbols (such as `™`) in the title. It is possible that an app name includes more than 3 of these characters and will excluded, though it is unlikely that it will happen often."
   ]
  },
  {
   "cell_type": "code",
   "execution_count": 22,
   "id": "05a980ce",
   "metadata": {},
   "outputs": [],
   "source": [
    "def english_name(name):\n",
    "    count = 0\n",
    "    for char in name:\n",
    "        if ord(char) < 0 or ord(char) > 127:\n",
    "            count += 1\n",
    "            if count > 3:\n",
    "                return False\n",
    "    return True"
   ]
  },
  {
   "attachments": {},
   "cell_type": "markdown",
   "id": "526b1875",
   "metadata": {},
   "source": [
    "Some test cases:"
   ]
  },
  {
   "cell_type": "code",
   "execution_count": 23,
   "id": "97ff5ad7",
   "metadata": {},
   "outputs": [
    {
     "name": "stdout",
     "output_type": "stream",
     "text": [
      "'Instagram' is in English: True\n",
      "'爱奇艺PPS -《欢乐颂2》电视剧热播' is in English: False\n",
      "'Docs To Go™ Free Office Suite' is in English: True\n",
      "'Instachat 😜' is in English: True\n"
     ]
    }
   ],
   "source": [
    "print('\\'Instagram\\' is in English:', english_name('Instagram'))\n",
    "print('\\'爱奇艺PPS -《欢乐颂2》电视剧热播\\' is in English:', english_name('爱奇艺PPS -《欢乐颂2》电视剧热播'))\n",
    "print('\\'Docs To Go™ Free Office Suite\\' is in English:', english_name('Docs To Go™ Free Office Suite'))\n",
    "print('\\'Instachat 😜\\' is in English:', english_name('Instachat 😜'))"
   ]
  },
  {
   "attachments": {},
   "cell_type": "markdown",
   "id": "26699f52",
   "metadata": {},
   "source": [
    "We will now create another function that will loop through the ios and android data, using the above function as a helper to determine if the app is perceived to be in English or not. We will run this to create two variables consisting of lists of apps: one for iOS and one for Android.\n",
    "\n",
    "This function will take in a dataset and a column index. The column index refers to the name column in the given dataset."
   ]
  },
  {
   "cell_type": "code",
   "execution_count": 26,
   "id": "df1b98ae",
   "metadata": {},
   "outputs": [
    {
     "name": "stdout",
     "output_type": "stream",
     "text": [
      "There are 9614 English apps for Android\n",
      "There are 6183 English apps for iOS\n"
     ]
    }
   ],
   "source": [
    "def find_english_apps(dataset, column_index):\n",
    "    english_apps = []\n",
    "    for app in dataset:\n",
    "        if english_name(app[column_index]):\n",
    "          english_apps.append(app)\n",
    "          \n",
    "    return english_apps\n",
    "\n",
    "android_english = find_english_apps(android_clean, 0)\n",
    "ios_english = find_english_apps(ios, 1)\n",
    "\n",
    "print(f'There are {len(android_english)} English apps for Android')\n",
    "print(f'There are {len(ios_english)} English apps for iOS')"
   ]
  },
  {
   "attachments": {},
   "cell_type": "markdown",
   "id": "744413a1",
   "metadata": {},
   "source": [
    "### Removing Paid Apps"
   ]
  },
  {
   "attachments": {},
   "cell_type": "markdown",
   "id": "9cbafe67",
   "metadata": {},
   "source": [
    "As mentioned previously, we are only going to be analyzing free apps. Since the data we have includes _all_ apps, we will take some time to remove any paid apps from our set.\n",
    "\n",
    "To start, let's see where the information for the app price is."
   ]
  },
  {
   "cell_type": "code",
   "execution_count": 27,
   "id": "580326ae",
   "metadata": {},
   "outputs": [
    {
     "name": "stdout",
     "output_type": "stream",
     "text": [
      "Android Column Names\n",
      "\n",
      "['App', 'Category', 'Rating', 'Reviews', 'Size', 'Installs', 'Type', 'Price', 'Content Rating', 'Genres', 'Last Updated', 'Current Ver', 'Android Ver']\n",
      "\n",
      "\n",
      "iOS Column Names\n",
      "['id', 'track_name', 'size_bytes', 'currency', 'price', 'rating_count_tot', 'rating_count_ver', 'user_rating', 'user_rating_ver', 'ver', 'cont_rating', 'prime_genre', 'sup_devices.num', 'ipadSc_urls.num', 'lang.num', 'vpp_lic']\n"
     ]
    }
   ],
   "source": [
    "print('Android Column Names\\n')\n",
    "print(android_header)\n",
    "print('\\n')\n",
    "print('iOS Column Names')\n",
    "print(ios_header)"
   ]
  },
  {
   "attachments": {},
   "cell_type": "markdown",
   "id": "7872bd18",
   "metadata": {},
   "source": [
    "The Android data has two columns where we can tell if it is free or not: \n",
    "1. The `Type` column (index 6)\n",
    "2. The `Price` column (index 7)\n",
    "\n",
    "For the sake of this project, I will be using the `Price` column. My thought process here is that it is less likely there will be a mistake, such as a typo, in that column."
   ]
  },
  {
   "attachments": {},
   "cell_type": "markdown",
   "id": "e11fc236",
   "metadata": {},
   "source": [
    "The iOS data has a `price` column (index 4), which can be used to determine if it is free. \n",
    "\n",
    "Below, we will create a function that can be reused later for each dataset. This function will take in a dataset and index. We will use type coercion to ensure that each price is a `float`, first making sure that we aren't accidentally attempting to coerce a `'$'`. It will then loop through the given dataset, appending an app to a new list every time the given index is `0.0`. It is also useful to note that this provides an additional reason for using the `Price` column of the Android data - it will allow use to create a reuseable function instead of creating one loop that looks for `0.0` and one that looks for `'free'`. "
   ]
  },
  {
   "cell_type": "code",
   "execution_count": 32,
   "id": "67c46b34",
   "metadata": {},
   "outputs": [
    {
     "name": "stdout",
     "output_type": "stream",
     "text": [
      "There are 8864 Android apps remaining.\n",
      "There are 3222 iOS apps remaining.\n"
     ]
    }
   ],
   "source": [
    "def free_apps (dataset, idx):\n",
    "    free = []\n",
    "    for app in dataset:\n",
    "        price = None;\n",
    "        if app[idx][0] == '$':\n",
    "            price = app[idx][1:]\n",
    "        else:\n",
    "            price = app[idx]\n",
    "            \n",
    "        if float(price) == 0.0:\n",
    "            free.append(app)\n",
    "    return free\n",
    "\n",
    "android_free_english = free_apps(android_english, 7)\n",
    "ios_free_english = free_apps(ios_english, 4)\n",
    "\n",
    "print(f'There are {len(android_free_english)} Android apps remaining.')\n",
    "print(f'There are {len(ios_free_english)} iOS apps remaining.')"
   ]
  },
  {
   "attachments": {},
   "cell_type": "markdown",
   "id": "8b5375b7",
   "metadata": {},
   "source": [
    "## Most Common Apps By Genre"
   ]
  },
  {
   "attachments": {},
   "cell_type": "markdown",
   "id": "8a379760",
   "metadata": {},
   "source": [
    "### Background"
   ]
  },
  {
   "attachments": {},
   "cell_type": "markdown",
   "id": "1de91534",
   "metadata": {},
   "source": [
    "The revenue made by the company depends heavily on in-app ads and, therefore, on number of users who see those ads. As a result, we want to analyze this data to determine what kind of app is likely to attract more users.\n",
    "\n",
    "Our end goal is to have the app on both the Google Play Store and App Store, so we need to find app profiles that have been successful in both stores. \n",
    "\n",
    "If we scroll up a few cells, we can see the column names for Android and iOS apps. It looks like `Category` (index 1)and `Genres` (index 9) in Android and `prime_genre` (index 11) in iOS would be good starting points.  "
   ]
  },
  {
   "attachments": {},
   "cell_type": "markdown",
   "id": "0b4614a0",
   "metadata": {},
   "source": [
    "### Creating Sorted Frequency Tables "
   ]
  },
  {
   "cell_type": "code",
   "execution_count": 33,
   "id": "2596b28a",
   "metadata": {},
   "outputs": [],
   "source": [
    "def freq_table(dataset, index):\n",
    "    freq = {}\n",
    "    count = 0\n",
    "    for app in dataset:\n",
    "        if app[index] not in freq:\n",
    "            freq[app[index]] = 0\n",
    "        freq[app[index]] += 1\n",
    "        count += 1\n",
    "    \n",
    "    freq_percentages = {}\n",
    "    for genre in freq:\n",
    "        percentage = (freq[genre] / count) * 100\n",
    "        freq_percentages[genre] = percentage\n",
    "        \n",
    "    return freq_percentages\n",
    "\n",
    "\n",
    "\n",
    "def display_table(dataset, index):\n",
    "    table = freq_table(dataset, index)\n",
    "    table_display = []\n",
    "    for key in table:\n",
    "        key_val_as_tuple = (table[key], key)\n",
    "        table_display.append(key_val_as_tuple)\n",
    "\n",
    "    table_sorted = sorted(table_display, reverse = True)\n",
    "    for entry in table_sorted:\n",
    "        print(entry[1], ':', entry[0])"
   ]
  },
  {
   "cell_type": "code",
   "execution_count": null,
   "id": "a5ae150e",
   "metadata": {},
   "outputs": [],
   "source": []
  }
 ],
 "metadata": {
  "kernelspec": {
   "display_name": "base",
   "language": "python",
   "name": "python3"
  },
  "language_info": {
   "codemirror_mode": {
    "name": "ipython",
    "version": 3
   },
   "file_extension": ".py",
   "mimetype": "text/x-python",
   "name": "python",
   "nbconvert_exporter": "python",
   "pygments_lexer": "ipython3",
   "version": "3.9.13"
  },
  "vscode": {
   "interpreter": {
    "hash": "0b8f86c0071fc00d7e88b26613972e39b3b877cf8c7a34deaa7d1c4f9ccc499c"
   }
  }
 },
 "nbformat": 4,
 "nbformat_minor": 5
}
